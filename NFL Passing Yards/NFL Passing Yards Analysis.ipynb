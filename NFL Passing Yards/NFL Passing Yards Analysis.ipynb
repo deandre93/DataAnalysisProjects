{
 "cells": [
  {
   "cell_type": "code",
   "execution_count": 2,
   "id": "fefffd72",
   "metadata": {},
   "outputs": [
    {
     "name": "stdout",
     "output_type": "stream",
     "text": [
      "Enter the NFL passing stat year: 2020\n",
      "      Rk            Player   Tm  Age Pos   G  GS   QBrec  Cmp  Att  ...  \\\n",
      "0      1   Deshaun Watson*  HOU   25  QB  16  16  4-12-0  382  544  ...   \n",
      "1      2  Patrick Mahomes*  KAN   25  QB  15  15  14-1-0  390  588  ...   \n",
      "2      3         Tom Brady  TAM   43  QB  16  16  11-5-0  401  610  ...   \n",
      "3      4         Matt Ryan  ATL   35  QB  16  16  4-12-0  407  626  ...   \n",
      "4      5       Josh Allen*  BUF   24  QB  16  16  13-3-0  396  572  ...   \n",
      "..   ...               ...  ...  ...  ..  ..  ..     ...  ...  ...  ...   \n",
      "107  108        Brett Kern  TEN   34   P  13   0     NaN    0    1  ...   \n",
      "108  109        D.J. Moore  CAR   23  WR  15  14     NaN    0    1  ...   \n",
      "109  110       Zach Pascal  IND   26  WR  16  14     NaN    0    1  ...   \n",
      "110  111     Sammy Watkins  KAN   27  WR  10   9     NaN    0    1  ...   \n",
      "111  112     Isaiah Wright  WAS   23  WR  14   6     NaN    0    1  ...   \n",
      "\n",
      "       Y/G   Rate   QBR  Sk  Yds.1  Sk%  NY/A  ANY/A  4QC  GWD  \n",
      "0    301.4  112.4  63.7  49    293  8.3  7.64   8.22  NaN  NaN  \n",
      "1    316.0  108.2  78.1  22    147  3.6  7.53   8.33  3.0  3.0  \n",
      "2    289.6  102.2  66.0  21    143  3.3  7.12   7.53  3.0  3.0  \n",
      "3    286.3   93.3  59.8  41    257  6.1  6.48   6.52  NaN  NaN  \n",
      "4    284.0  107.2  76.6  26    159  4.3  7.33   7.82  2.0  3.0  \n",
      "..     ...    ...   ...  ..    ...  ...   ...    ...  ...  ...  \n",
      "107    0.0   39.6   0.0   0      0  0.0  0.00   0.00  NaN  NaN  \n",
      "108    0.0   39.6   NaN   0      0  0.0  0.00   0.00  NaN  NaN  \n",
      "109    0.0   39.6   1.8   0      0  0.0  0.00   0.00  NaN  NaN  \n",
      "110    0.0    0.0   0.0   0      0  0.0  0.00 -45.00  NaN  NaN  \n",
      "111    0.0   39.6   2.8   0      0  0.0  0.00   0.00  NaN  NaN  \n",
      "\n",
      "[112 rows x 32 columns]\n"
     ]
    }
   ],
   "source": [
    "import pandas as pd\n",
    "\n",
    "# Prompt the user to input the year\n",
    "year_input = input(\"Enter the NFL passing stat year: \")\n",
    "\n",
    "# Construct the CSV file path based on user input\n",
    "csv_file_path = f\"nfl_passing_data{year_input}.csv\"\n",
    "\n",
    "# Read the CSV file into a DataFrame\n",
    "try:\n",
    "    df = pd.read_csv(csv_file_path)\n",
    "\n",
    "    # Display the DataFrame\n",
    "    print(df)\n",
    "\n",
    "except FileNotFoundError:\n",
    "    print(f\"CSV file for the year {year_input} not found.\")\n",
    "except pd.errors.EmptyDataError:\n",
    "    print(f\"CSV file for the year {year_input} is empty.\")\n",
    "except pd.errors.ParserError:\n",
    "    print(f\"Error parsing CSV file for the year {year_input}.\")\n",
    "except Exception as e:\n",
    "    print(f\"An unexpected error occurred: {e}\")\n"
   ]
  },
  {
   "cell_type": "code",
   "execution_count": 3,
   "id": "42daf53c",
   "metadata": {},
   "outputs": [
    {
     "data": {
      "text/html": [
       "<div>\n",
       "<style scoped>\n",
       "    .dataframe tbody tr th:only-of-type {\n",
       "        vertical-align: middle;\n",
       "    }\n",
       "\n",
       "    .dataframe tbody tr th {\n",
       "        vertical-align: top;\n",
       "    }\n",
       "\n",
       "    .dataframe thead th {\n",
       "        text-align: right;\n",
       "    }\n",
       "</style>\n",
       "<table border=\"1\" class=\"dataframe\">\n",
       "  <thead>\n",
       "    <tr style=\"text-align: right;\">\n",
       "      <th></th>\n",
       "      <th>Rk</th>\n",
       "      <th>Player</th>\n",
       "      <th>Tm</th>\n",
       "      <th>Age</th>\n",
       "      <th>Pos</th>\n",
       "      <th>G</th>\n",
       "      <th>GS</th>\n",
       "      <th>QBrec</th>\n",
       "      <th>Cmp</th>\n",
       "      <th>Att</th>\n",
       "      <th>...</th>\n",
       "      <th>Y/G</th>\n",
       "      <th>Rate</th>\n",
       "      <th>QBR</th>\n",
       "      <th>Sk</th>\n",
       "      <th>Yds.1</th>\n",
       "      <th>Sk%</th>\n",
       "      <th>NY/A</th>\n",
       "      <th>ANY/A</th>\n",
       "      <th>4QC</th>\n",
       "      <th>GWD</th>\n",
       "    </tr>\n",
       "  </thead>\n",
       "  <tbody>\n",
       "    <tr>\n",
       "      <th>0</th>\n",
       "      <td>1</td>\n",
       "      <td>Deshaun Watson*</td>\n",
       "      <td>HOU</td>\n",
       "      <td>25</td>\n",
       "      <td>QB</td>\n",
       "      <td>16</td>\n",
       "      <td>16</td>\n",
       "      <td>4-12-0</td>\n",
       "      <td>382</td>\n",
       "      <td>544</td>\n",
       "      <td>...</td>\n",
       "      <td>301.4</td>\n",
       "      <td>112.4</td>\n",
       "      <td>63.7</td>\n",
       "      <td>49</td>\n",
       "      <td>293</td>\n",
       "      <td>8.3</td>\n",
       "      <td>7.64</td>\n",
       "      <td>8.22</td>\n",
       "      <td>NaN</td>\n",
       "      <td>NaN</td>\n",
       "    </tr>\n",
       "    <tr>\n",
       "      <th>1</th>\n",
       "      <td>2</td>\n",
       "      <td>Patrick Mahomes*</td>\n",
       "      <td>KAN</td>\n",
       "      <td>25</td>\n",
       "      <td>QB</td>\n",
       "      <td>15</td>\n",
       "      <td>15</td>\n",
       "      <td>14-1-0</td>\n",
       "      <td>390</td>\n",
       "      <td>588</td>\n",
       "      <td>...</td>\n",
       "      <td>316.0</td>\n",
       "      <td>108.2</td>\n",
       "      <td>78.1</td>\n",
       "      <td>22</td>\n",
       "      <td>147</td>\n",
       "      <td>3.6</td>\n",
       "      <td>7.53</td>\n",
       "      <td>8.33</td>\n",
       "      <td>3.0</td>\n",
       "      <td>3.0</td>\n",
       "    </tr>\n",
       "    <tr>\n",
       "      <th>2</th>\n",
       "      <td>3</td>\n",
       "      <td>Tom Brady</td>\n",
       "      <td>TAM</td>\n",
       "      <td>43</td>\n",
       "      <td>QB</td>\n",
       "      <td>16</td>\n",
       "      <td>16</td>\n",
       "      <td>11-5-0</td>\n",
       "      <td>401</td>\n",
       "      <td>610</td>\n",
       "      <td>...</td>\n",
       "      <td>289.6</td>\n",
       "      <td>102.2</td>\n",
       "      <td>66.0</td>\n",
       "      <td>21</td>\n",
       "      <td>143</td>\n",
       "      <td>3.3</td>\n",
       "      <td>7.12</td>\n",
       "      <td>7.53</td>\n",
       "      <td>3.0</td>\n",
       "      <td>3.0</td>\n",
       "    </tr>\n",
       "    <tr>\n",
       "      <th>3</th>\n",
       "      <td>4</td>\n",
       "      <td>Matt Ryan</td>\n",
       "      <td>ATL</td>\n",
       "      <td>35</td>\n",
       "      <td>QB</td>\n",
       "      <td>16</td>\n",
       "      <td>16</td>\n",
       "      <td>4-12-0</td>\n",
       "      <td>407</td>\n",
       "      <td>626</td>\n",
       "      <td>...</td>\n",
       "      <td>286.3</td>\n",
       "      <td>93.3</td>\n",
       "      <td>59.8</td>\n",
       "      <td>41</td>\n",
       "      <td>257</td>\n",
       "      <td>6.1</td>\n",
       "      <td>6.48</td>\n",
       "      <td>6.52</td>\n",
       "      <td>NaN</td>\n",
       "      <td>NaN</td>\n",
       "    </tr>\n",
       "    <tr>\n",
       "      <th>4</th>\n",
       "      <td>5</td>\n",
       "      <td>Josh Allen*</td>\n",
       "      <td>BUF</td>\n",
       "      <td>24</td>\n",
       "      <td>QB</td>\n",
       "      <td>16</td>\n",
       "      <td>16</td>\n",
       "      <td>13-3-0</td>\n",
       "      <td>396</td>\n",
       "      <td>572</td>\n",
       "      <td>...</td>\n",
       "      <td>284.0</td>\n",
       "      <td>107.2</td>\n",
       "      <td>76.6</td>\n",
       "      <td>26</td>\n",
       "      <td>159</td>\n",
       "      <td>4.3</td>\n",
       "      <td>7.33</td>\n",
       "      <td>7.82</td>\n",
       "      <td>2.0</td>\n",
       "      <td>3.0</td>\n",
       "    </tr>\n",
       "    <tr>\n",
       "      <th>...</th>\n",
       "      <td>...</td>\n",
       "      <td>...</td>\n",
       "      <td>...</td>\n",
       "      <td>...</td>\n",
       "      <td>...</td>\n",
       "      <td>...</td>\n",
       "      <td>...</td>\n",
       "      <td>...</td>\n",
       "      <td>...</td>\n",
       "      <td>...</td>\n",
       "      <td>...</td>\n",
       "      <td>...</td>\n",
       "      <td>...</td>\n",
       "      <td>...</td>\n",
       "      <td>...</td>\n",
       "      <td>...</td>\n",
       "      <td>...</td>\n",
       "      <td>...</td>\n",
       "      <td>...</td>\n",
       "      <td>...</td>\n",
       "      <td>...</td>\n",
       "    </tr>\n",
       "    <tr>\n",
       "      <th>107</th>\n",
       "      <td>108</td>\n",
       "      <td>Brett Kern</td>\n",
       "      <td>TEN</td>\n",
       "      <td>34</td>\n",
       "      <td>P</td>\n",
       "      <td>13</td>\n",
       "      <td>0</td>\n",
       "      <td>DNS</td>\n",
       "      <td>0</td>\n",
       "      <td>1</td>\n",
       "      <td>...</td>\n",
       "      <td>0.0</td>\n",
       "      <td>39.6</td>\n",
       "      <td>0.0</td>\n",
       "      <td>0</td>\n",
       "      <td>0</td>\n",
       "      <td>0.0</td>\n",
       "      <td>0.00</td>\n",
       "      <td>0.00</td>\n",
       "      <td>NaN</td>\n",
       "      <td>NaN</td>\n",
       "    </tr>\n",
       "    <tr>\n",
       "      <th>108</th>\n",
       "      <td>109</td>\n",
       "      <td>D.J. Moore</td>\n",
       "      <td>CAR</td>\n",
       "      <td>23</td>\n",
       "      <td>WR</td>\n",
       "      <td>15</td>\n",
       "      <td>14</td>\n",
       "      <td>DNS</td>\n",
       "      <td>0</td>\n",
       "      <td>1</td>\n",
       "      <td>...</td>\n",
       "      <td>0.0</td>\n",
       "      <td>39.6</td>\n",
       "      <td>NaN</td>\n",
       "      <td>0</td>\n",
       "      <td>0</td>\n",
       "      <td>0.0</td>\n",
       "      <td>0.00</td>\n",
       "      <td>0.00</td>\n",
       "      <td>NaN</td>\n",
       "      <td>NaN</td>\n",
       "    </tr>\n",
       "    <tr>\n",
       "      <th>109</th>\n",
       "      <td>110</td>\n",
       "      <td>Zach Pascal</td>\n",
       "      <td>IND</td>\n",
       "      <td>26</td>\n",
       "      <td>WR</td>\n",
       "      <td>16</td>\n",
       "      <td>14</td>\n",
       "      <td>DNS</td>\n",
       "      <td>0</td>\n",
       "      <td>1</td>\n",
       "      <td>...</td>\n",
       "      <td>0.0</td>\n",
       "      <td>39.6</td>\n",
       "      <td>1.8</td>\n",
       "      <td>0</td>\n",
       "      <td>0</td>\n",
       "      <td>0.0</td>\n",
       "      <td>0.00</td>\n",
       "      <td>0.00</td>\n",
       "      <td>NaN</td>\n",
       "      <td>NaN</td>\n",
       "    </tr>\n",
       "    <tr>\n",
       "      <th>110</th>\n",
       "      <td>111</td>\n",
       "      <td>Sammy Watkins</td>\n",
       "      <td>KAN</td>\n",
       "      <td>27</td>\n",
       "      <td>WR</td>\n",
       "      <td>10</td>\n",
       "      <td>9</td>\n",
       "      <td>DNS</td>\n",
       "      <td>0</td>\n",
       "      <td>1</td>\n",
       "      <td>...</td>\n",
       "      <td>0.0</td>\n",
       "      <td>0.0</td>\n",
       "      <td>0.0</td>\n",
       "      <td>0</td>\n",
       "      <td>0</td>\n",
       "      <td>0.0</td>\n",
       "      <td>0.00</td>\n",
       "      <td>-45.00</td>\n",
       "      <td>NaN</td>\n",
       "      <td>NaN</td>\n",
       "    </tr>\n",
       "    <tr>\n",
       "      <th>111</th>\n",
       "      <td>112</td>\n",
       "      <td>Isaiah Wright</td>\n",
       "      <td>WAS</td>\n",
       "      <td>23</td>\n",
       "      <td>WR</td>\n",
       "      <td>14</td>\n",
       "      <td>6</td>\n",
       "      <td>DNS</td>\n",
       "      <td>0</td>\n",
       "      <td>1</td>\n",
       "      <td>...</td>\n",
       "      <td>0.0</td>\n",
       "      <td>39.6</td>\n",
       "      <td>2.8</td>\n",
       "      <td>0</td>\n",
       "      <td>0</td>\n",
       "      <td>0.0</td>\n",
       "      <td>0.00</td>\n",
       "      <td>0.00</td>\n",
       "      <td>NaN</td>\n",
       "      <td>NaN</td>\n",
       "    </tr>\n",
       "  </tbody>\n",
       "</table>\n",
       "<p>112 rows × 32 columns</p>\n",
       "</div>"
      ],
      "text/plain": [
       "      Rk            Player   Tm  Age Pos   G  GS   QBrec  Cmp  Att  ...  \\\n",
       "0      1   Deshaun Watson*  HOU   25  QB  16  16  4-12-0  382  544  ...   \n",
       "1      2  Patrick Mahomes*  KAN   25  QB  15  15  14-1-0  390  588  ...   \n",
       "2      3         Tom Brady  TAM   43  QB  16  16  11-5-0  401  610  ...   \n",
       "3      4         Matt Ryan  ATL   35  QB  16  16  4-12-0  407  626  ...   \n",
       "4      5       Josh Allen*  BUF   24  QB  16  16  13-3-0  396  572  ...   \n",
       "..   ...               ...  ...  ...  ..  ..  ..     ...  ...  ...  ...   \n",
       "107  108        Brett Kern  TEN   34   P  13   0     DNS    0    1  ...   \n",
       "108  109        D.J. Moore  CAR   23  WR  15  14     DNS    0    1  ...   \n",
       "109  110       Zach Pascal  IND   26  WR  16  14     DNS    0    1  ...   \n",
       "110  111     Sammy Watkins  KAN   27  WR  10   9     DNS    0    1  ...   \n",
       "111  112     Isaiah Wright  WAS   23  WR  14   6     DNS    0    1  ...   \n",
       "\n",
       "       Y/G   Rate   QBR  Sk  Yds.1  Sk%  NY/A  ANY/A  4QC  GWD  \n",
       "0    301.4  112.4  63.7  49    293  8.3  7.64   8.22  NaN  NaN  \n",
       "1    316.0  108.2  78.1  22    147  3.6  7.53   8.33  3.0  3.0  \n",
       "2    289.6  102.2  66.0  21    143  3.3  7.12   7.53  3.0  3.0  \n",
       "3    286.3   93.3  59.8  41    257  6.1  6.48   6.52  NaN  NaN  \n",
       "4    284.0  107.2  76.6  26    159  4.3  7.33   7.82  2.0  3.0  \n",
       "..     ...    ...   ...  ..    ...  ...   ...    ...  ...  ...  \n",
       "107    0.0   39.6   0.0   0      0  0.0  0.00   0.00  NaN  NaN  \n",
       "108    0.0   39.6   NaN   0      0  0.0  0.00   0.00  NaN  NaN  \n",
       "109    0.0   39.6   1.8   0      0  0.0  0.00   0.00  NaN  NaN  \n",
       "110    0.0    0.0   0.0   0      0  0.0  0.00 -45.00  NaN  NaN  \n",
       "111    0.0   39.6   2.8   0      0  0.0  0.00   0.00  NaN  NaN  \n",
       "\n",
       "[112 rows x 32 columns]"
      ]
     },
     "execution_count": 3,
     "metadata": {},
     "output_type": "execute_result"
    }
   ],
   "source": [
    "\n",
    "df_copy = df.copy()  # Create a copy of the original dataframe\n",
    "\n",
    "# Fill NaN values in the 'QBrec' column with 'DNS'\n",
    "df_copy['QBrec'].fillna('DNS', inplace=True)\n",
    "\n",
    "df_copy"
   ]
  },
  {
   "cell_type": "code",
   "execution_count": 29,
   "id": "82721e2d",
   "metadata": {},
   "outputs": [
    {
     "name": "stdout",
     "output_type": "stream",
     "text": [
      "Top 10 Records (Best to Worst):\n",
      "            Player  QBrec\n",
      "  Patrick Mahomes* 14-1-0\n",
      "       Josh Allen* 13-3-0\n",
      "   Aaron Rodgers*+ 13-3-0\n",
      "Ben Roethlisberger 12-3-0\n",
      "   Russell Wilson* 12-4-0\n",
      "     Lamar Jackson 11-4-0\n",
      "    Baker Mayfield 11-5-0\n",
      "    Ryan Tannehill 11-5-0\n",
      "         Tom Brady 11-5-0\n",
      "     Philip Rivers 11-5-0\n"
     ]
    }
   ],
   "source": [
    "# Display the top 10 records (name and QBrec) in their original format\n",
    "\n",
    "\n",
    "# Assuming you already have the dataframe 'df'\n",
    "df_copy = df.copy()  # Create a copy of the original dataframe\n",
    "\n",
    "# Convert 'QBR' column to string\n",
    "df_copy['QBrec'] = df_copy['QBrec'].astype(str)\n",
    "\n",
    "# Define a custom sorting key function\n",
    "def custom_sort_key(record):\n",
    "    if record == 'nan' or record== 'DNS':  # Handle 'nan' values and \"DNS\"\n",
    "        return (-9999, -9999, -9999)  # Assign placeholder values\n",
    "    wins, losses, ties = map(int, record.split('-'))\n",
    "    return (wins - losses, wins, ties)\n",
    "\n",
    "# Calculate the custom sorting key for each record\n",
    "df_copy['SortKey'] = df_copy['QBrec'].apply(custom_sort_key)\n",
    "\n",
    "# Sort the DataFrame using the custom sorting key\n",
    "sorted_df = df_copy.sort_values(by='SortKey', ascending=False)\n",
    "\n",
    "# Display the top 10 records (name and QBrec) in their original format\n",
    "top_10_records = sorted_df.head(10)[['Player',   'QBrec']]\n",
    "print(\"Top 10 Records (Best to Worst):\")\n",
    "print(top_10_records.to_string(index=False))\n",
    "\n",
    "\n",
    "\n",
    "\n"
   ]
  },
  {
   "cell_type": "code",
   "execution_count": 26,
   "id": "1ec5132f",
   "metadata": {},
   "outputs": [
    {
     "name": "stdout",
     "output_type": "stream",
     "text": [
      "Best Player Under 25:\n",
      "Player: Josh Allen*\n",
      "QBrec: 13-3-0\n",
      "\n",
      "Best Player Under 30:\n",
      "Player: Patrick Mahomes*\n",
      "QBrec: 14-1-0\n",
      "\n",
      "Best Player Over 30:\n",
      "Player: Aaron Rodgers*+\n",
      "QBrec: 13-3-0\n",
      "\n",
      "Best Overall Player:\n",
      "Player: Patrick Mahomes*\n",
      "QBrec: 14-1-0\n"
     ]
    }
   ],
   "source": [
    "# Display the best player overall, player under 25, player over 25 but under 30 and , best player over 30\n",
    "\n",
    "\n",
    "# Define a custom sorting key function\n",
    "def custom_sort_key(record):\n",
    "    if record['QBrec'] == 'nan' or record['QBrec'] == 'DNS':\n",
    "        return (-9999, -9999, -9999, -9999)\n",
    "    wins, losses, ties = map(int, record['QBrec'].split('-'))\n",
    "    return (wins - losses, wins, ties, record['Age'])\n",
    "\n",
    "# Calculate the custom sorting key for each record\n",
    "df_copy['SortKey'] = df_copy.apply(custom_sort_key, axis=1)\n",
    "\n",
    "# Sort the DataFrame by 'SortKey' in descending order\n",
    "sorted_df = df_copy.sort_values(by='SortKey', ascending=False)\n",
    "\n",
    "# Display the best player under 25\n",
    "best_under_25 = sorted_df[sorted_df['Age'] < 25].iloc[0]\n",
    "print(\"Best Player Under 25:\")\n",
    "print(\"Player:\", best_under_25['Player'])\n",
    "print(\"QBrec:\", best_under_25['QBrec'])\n",
    "\n",
    "# Display the best player under 30 (but over 25)\n",
    "best_under_30 = sorted_df[(sorted_df['Age'] >= 25) & (sorted_df['Age'] < 30)].iloc[0]\n",
    "print(\"\\nBest Player Under 30:\")\n",
    "print(\"Player:\", best_under_30['Player'])\n",
    "print(\"QBrec:\", best_under_30['QBrec'])\n",
    "\n",
    "# Display the best player over 30\n",
    "best_over_30 = sorted_df[sorted_df['Age'] >= 30].iloc[0]\n",
    "print(\"\\nBest Player Over 30:\")\n",
    "print(\"Player:\", best_over_30['Player'])\n",
    "print(\"QBrec:\", best_over_30['QBrec'])\n",
    "\n",
    "# Display the best overall player\n",
    "best_overall = sorted_df.iloc[0]\n",
    "print(\"\\nBest Overall Player:\")\n",
    "print(\"Player:\", best_overall['Player'])\n",
    "print(\"QBrec:\", best_overall['QBrec'])\n",
    "\n",
    "\n"
   ]
  },
  {
   "cell_type": "code",
   "execution_count": 43,
   "id": "b815e1f3",
   "metadata": {},
   "outputs": [
    {
     "data": {
      "application/vnd.plotly.v1+json": {
       "config": {
        "plotlyServerURL": "https://plot.ly"
       },
       "data": [
        {
         "customdata": [
          [
           "Deshaun Watson*"
          ],
          [
           "Patrick Mahomes*"
          ],
          [
           "Tom Brady"
          ],
          [
           "Matt Ryan"
          ],
          [
           "Josh Allen*"
          ],
          [
           "Justin Herbert"
          ],
          [
           "Aaron Rodgers*+"
          ],
          [
           "Kirk Cousins"
          ],
          [
           "Russell Wilson*"
          ],
          [
           "Philip Rivers"
          ],
          [
           "Derek Carr"
          ],
          [
           "Matthew Stafford"
          ]
         ],
         "hovertemplate": "color=Over 4000<br>Cmp=%{x}<br>Yds=%{y}<br>Player=%{customdata[0]}<extra></extra>",
         "legendgroup": "Over 4000",
         "marker": {
          "color": "red",
          "symbol": "circle"
         },
         "mode": "markers",
         "name": "Over 4000",
         "orientation": "v",
         "showlegend": true,
         "type": "scatter",
         "x": [
          382,
          390,
          401,
          407,
          396,
          396,
          372,
          349,
          384,
          369,
          348,
          339
         ],
         "xaxis": "x",
         "y": [
          4823,
          4740,
          4633,
          4581,
          4544,
          4336,
          4299,
          4265,
          4212,
          4169,
          4103,
          4084
         ],
         "yaxis": "y"
        },
        {
         "customdata": [
          [
           "Kyler Murray*"
          ],
          [
           "Jared Goff"
          ],
          [
           "Ryan Tannehill"
          ],
          [
           "Ben Roethlisberger"
          ],
          [
           "Teddy Bridgewater"
          ],
          [
           "Baker Mayfield"
          ]
         ],
         "hovertemplate": "color=3000-4000<br>Cmp=%{x}<br>Yds=%{y}<br>Player=%{customdata[0]}<extra></extra>",
         "legendgroup": "3000-4000",
         "marker": {
          "color": "blue",
          "symbol": "circle"
         },
         "mode": "markers",
         "name": "3000-4000",
         "orientation": "v",
         "showlegend": true,
         "type": "scatter",
         "x": [
          375,
          370,
          315,
          399,
          340,
          305
         ],
         "xaxis": "x",
         "y": [
          3971,
          3952,
          3819,
          3803,
          3733,
          3563
         ],
         "yaxis": "y"
        },
        {
         "customdata": [
          [
           "Daniel Jones"
          ],
          [
           "Drew Brees"
          ],
          [
           "Drew Lock"
          ],
          [
           "Lamar Jackson"
          ],
          [
           "Cam Newton"
          ],
          [
           "Carson Wentz"
          ],
          [
           "Sam Darnold"
          ]
         ],
         "hovertemplate": "color=2000-3000<br>Cmp=%{x}<br>Yds=%{y}<br>Player=%{customdata[0]}<extra></extra>",
         "legendgroup": "2000-3000",
         "marker": {
          "color": "green",
          "symbol": "circle"
         },
         "mode": "markers",
         "name": "2000-3000",
         "orientation": "v",
         "showlegend": true,
         "type": "scatter",
         "x": [
          280,
          275,
          254,
          242,
          242,
          251,
          217
         ],
         "xaxis": "x",
         "y": [
          2943,
          2942,
          2933,
          2757,
          2657,
          2620,
          2208
         ],
         "yaxis": "y"
        }
       ],
       "layout": {
        "legend": {
         "title": {
          "text": "color"
         },
         "tracegroupgap": 0
        },
        "template": {
         "data": {
          "bar": [
           {
            "error_x": {
             "color": "#2a3f5f"
            },
            "error_y": {
             "color": "#2a3f5f"
            },
            "marker": {
             "line": {
              "color": "#E5ECF6",
              "width": 0.5
             },
             "pattern": {
              "fillmode": "overlay",
              "size": 10,
              "solidity": 0.2
             }
            },
            "type": "bar"
           }
          ],
          "barpolar": [
           {
            "marker": {
             "line": {
              "color": "#E5ECF6",
              "width": 0.5
             },
             "pattern": {
              "fillmode": "overlay",
              "size": 10,
              "solidity": 0.2
             }
            },
            "type": "barpolar"
           }
          ],
          "carpet": [
           {
            "aaxis": {
             "endlinecolor": "#2a3f5f",
             "gridcolor": "white",
             "linecolor": "white",
             "minorgridcolor": "white",
             "startlinecolor": "#2a3f5f"
            },
            "baxis": {
             "endlinecolor": "#2a3f5f",
             "gridcolor": "white",
             "linecolor": "white",
             "minorgridcolor": "white",
             "startlinecolor": "#2a3f5f"
            },
            "type": "carpet"
           }
          ],
          "choropleth": [
           {
            "colorbar": {
             "outlinewidth": 0,
             "ticks": ""
            },
            "type": "choropleth"
           }
          ],
          "contour": [
           {
            "colorbar": {
             "outlinewidth": 0,
             "ticks": ""
            },
            "colorscale": [
             [
              0,
              "#0d0887"
             ],
             [
              0.1111111111111111,
              "#46039f"
             ],
             [
              0.2222222222222222,
              "#7201a8"
             ],
             [
              0.3333333333333333,
              "#9c179e"
             ],
             [
              0.4444444444444444,
              "#bd3786"
             ],
             [
              0.5555555555555556,
              "#d8576b"
             ],
             [
              0.6666666666666666,
              "#ed7953"
             ],
             [
              0.7777777777777778,
              "#fb9f3a"
             ],
             [
              0.8888888888888888,
              "#fdca26"
             ],
             [
              1,
              "#f0f921"
             ]
            ],
            "type": "contour"
           }
          ],
          "contourcarpet": [
           {
            "colorbar": {
             "outlinewidth": 0,
             "ticks": ""
            },
            "type": "contourcarpet"
           }
          ],
          "heatmap": [
           {
            "colorbar": {
             "outlinewidth": 0,
             "ticks": ""
            },
            "colorscale": [
             [
              0,
              "#0d0887"
             ],
             [
              0.1111111111111111,
              "#46039f"
             ],
             [
              0.2222222222222222,
              "#7201a8"
             ],
             [
              0.3333333333333333,
              "#9c179e"
             ],
             [
              0.4444444444444444,
              "#bd3786"
             ],
             [
              0.5555555555555556,
              "#d8576b"
             ],
             [
              0.6666666666666666,
              "#ed7953"
             ],
             [
              0.7777777777777778,
              "#fb9f3a"
             ],
             [
              0.8888888888888888,
              "#fdca26"
             ],
             [
              1,
              "#f0f921"
             ]
            ],
            "type": "heatmap"
           }
          ],
          "heatmapgl": [
           {
            "colorbar": {
             "outlinewidth": 0,
             "ticks": ""
            },
            "colorscale": [
             [
              0,
              "#0d0887"
             ],
             [
              0.1111111111111111,
              "#46039f"
             ],
             [
              0.2222222222222222,
              "#7201a8"
             ],
             [
              0.3333333333333333,
              "#9c179e"
             ],
             [
              0.4444444444444444,
              "#bd3786"
             ],
             [
              0.5555555555555556,
              "#d8576b"
             ],
             [
              0.6666666666666666,
              "#ed7953"
             ],
             [
              0.7777777777777778,
              "#fb9f3a"
             ],
             [
              0.8888888888888888,
              "#fdca26"
             ],
             [
              1,
              "#f0f921"
             ]
            ],
            "type": "heatmapgl"
           }
          ],
          "histogram": [
           {
            "marker": {
             "pattern": {
              "fillmode": "overlay",
              "size": 10,
              "solidity": 0.2
             }
            },
            "type": "histogram"
           }
          ],
          "histogram2d": [
           {
            "colorbar": {
             "outlinewidth": 0,
             "ticks": ""
            },
            "colorscale": [
             [
              0,
              "#0d0887"
             ],
             [
              0.1111111111111111,
              "#46039f"
             ],
             [
              0.2222222222222222,
              "#7201a8"
             ],
             [
              0.3333333333333333,
              "#9c179e"
             ],
             [
              0.4444444444444444,
              "#bd3786"
             ],
             [
              0.5555555555555556,
              "#d8576b"
             ],
             [
              0.6666666666666666,
              "#ed7953"
             ],
             [
              0.7777777777777778,
              "#fb9f3a"
             ],
             [
              0.8888888888888888,
              "#fdca26"
             ],
             [
              1,
              "#f0f921"
             ]
            ],
            "type": "histogram2d"
           }
          ],
          "histogram2dcontour": [
           {
            "colorbar": {
             "outlinewidth": 0,
             "ticks": ""
            },
            "colorscale": [
             [
              0,
              "#0d0887"
             ],
             [
              0.1111111111111111,
              "#46039f"
             ],
             [
              0.2222222222222222,
              "#7201a8"
             ],
             [
              0.3333333333333333,
              "#9c179e"
             ],
             [
              0.4444444444444444,
              "#bd3786"
             ],
             [
              0.5555555555555556,
              "#d8576b"
             ],
             [
              0.6666666666666666,
              "#ed7953"
             ],
             [
              0.7777777777777778,
              "#fb9f3a"
             ],
             [
              0.8888888888888888,
              "#fdca26"
             ],
             [
              1,
              "#f0f921"
             ]
            ],
            "type": "histogram2dcontour"
           }
          ],
          "mesh3d": [
           {
            "colorbar": {
             "outlinewidth": 0,
             "ticks": ""
            },
            "type": "mesh3d"
           }
          ],
          "parcoords": [
           {
            "line": {
             "colorbar": {
              "outlinewidth": 0,
              "ticks": ""
             }
            },
            "type": "parcoords"
           }
          ],
          "pie": [
           {
            "automargin": true,
            "type": "pie"
           }
          ],
          "scatter": [
           {
            "fillpattern": {
             "fillmode": "overlay",
             "size": 10,
             "solidity": 0.2
            },
            "type": "scatter"
           }
          ],
          "scatter3d": [
           {
            "line": {
             "colorbar": {
              "outlinewidth": 0,
              "ticks": ""
             }
            },
            "marker": {
             "colorbar": {
              "outlinewidth": 0,
              "ticks": ""
             }
            },
            "type": "scatter3d"
           }
          ],
          "scattercarpet": [
           {
            "marker": {
             "colorbar": {
              "outlinewidth": 0,
              "ticks": ""
             }
            },
            "type": "scattercarpet"
           }
          ],
          "scattergeo": [
           {
            "marker": {
             "colorbar": {
              "outlinewidth": 0,
              "ticks": ""
             }
            },
            "type": "scattergeo"
           }
          ],
          "scattergl": [
           {
            "marker": {
             "colorbar": {
              "outlinewidth": 0,
              "ticks": ""
             }
            },
            "type": "scattergl"
           }
          ],
          "scattermapbox": [
           {
            "marker": {
             "colorbar": {
              "outlinewidth": 0,
              "ticks": ""
             }
            },
            "type": "scattermapbox"
           }
          ],
          "scatterpolar": [
           {
            "marker": {
             "colorbar": {
              "outlinewidth": 0,
              "ticks": ""
             }
            },
            "type": "scatterpolar"
           }
          ],
          "scatterpolargl": [
           {
            "marker": {
             "colorbar": {
              "outlinewidth": 0,
              "ticks": ""
             }
            },
            "type": "scatterpolargl"
           }
          ],
          "scatterternary": [
           {
            "marker": {
             "colorbar": {
              "outlinewidth": 0,
              "ticks": ""
             }
            },
            "type": "scatterternary"
           }
          ],
          "surface": [
           {
            "colorbar": {
             "outlinewidth": 0,
             "ticks": ""
            },
            "colorscale": [
             [
              0,
              "#0d0887"
             ],
             [
              0.1111111111111111,
              "#46039f"
             ],
             [
              0.2222222222222222,
              "#7201a8"
             ],
             [
              0.3333333333333333,
              "#9c179e"
             ],
             [
              0.4444444444444444,
              "#bd3786"
             ],
             [
              0.5555555555555556,
              "#d8576b"
             ],
             [
              0.6666666666666666,
              "#ed7953"
             ],
             [
              0.7777777777777778,
              "#fb9f3a"
             ],
             [
              0.8888888888888888,
              "#fdca26"
             ],
             [
              1,
              "#f0f921"
             ]
            ],
            "type": "surface"
           }
          ],
          "table": [
           {
            "cells": {
             "fill": {
              "color": "#EBF0F8"
             },
             "line": {
              "color": "white"
             }
            },
            "header": {
             "fill": {
              "color": "#C8D4E3"
             },
             "line": {
              "color": "white"
             }
            },
            "type": "table"
           }
          ]
         },
         "layout": {
          "annotationdefaults": {
           "arrowcolor": "#2a3f5f",
           "arrowhead": 0,
           "arrowwidth": 1
          },
          "autotypenumbers": "strict",
          "coloraxis": {
           "colorbar": {
            "outlinewidth": 0,
            "ticks": ""
           }
          },
          "colorscale": {
           "diverging": [
            [
             0,
             "#8e0152"
            ],
            [
             0.1,
             "#c51b7d"
            ],
            [
             0.2,
             "#de77ae"
            ],
            [
             0.3,
             "#f1b6da"
            ],
            [
             0.4,
             "#fde0ef"
            ],
            [
             0.5,
             "#f7f7f7"
            ],
            [
             0.6,
             "#e6f5d0"
            ],
            [
             0.7,
             "#b8e186"
            ],
            [
             0.8,
             "#7fbc41"
            ],
            [
             0.9,
             "#4d9221"
            ],
            [
             1,
             "#276419"
            ]
           ],
           "sequential": [
            [
             0,
             "#0d0887"
            ],
            [
             0.1111111111111111,
             "#46039f"
            ],
            [
             0.2222222222222222,
             "#7201a8"
            ],
            [
             0.3333333333333333,
             "#9c179e"
            ],
            [
             0.4444444444444444,
             "#bd3786"
            ],
            [
             0.5555555555555556,
             "#d8576b"
            ],
            [
             0.6666666666666666,
             "#ed7953"
            ],
            [
             0.7777777777777778,
             "#fb9f3a"
            ],
            [
             0.8888888888888888,
             "#fdca26"
            ],
            [
             1,
             "#f0f921"
            ]
           ],
           "sequentialminus": [
            [
             0,
             "#0d0887"
            ],
            [
             0.1111111111111111,
             "#46039f"
            ],
            [
             0.2222222222222222,
             "#7201a8"
            ],
            [
             0.3333333333333333,
             "#9c179e"
            ],
            [
             0.4444444444444444,
             "#bd3786"
            ],
            [
             0.5555555555555556,
             "#d8576b"
            ],
            [
             0.6666666666666666,
             "#ed7953"
            ],
            [
             0.7777777777777778,
             "#fb9f3a"
            ],
            [
             0.8888888888888888,
             "#fdca26"
            ],
            [
             1,
             "#f0f921"
            ]
           ]
          },
          "colorway": [
           "#636efa",
           "#EF553B",
           "#00cc96",
           "#ab63fa",
           "#FFA15A",
           "#19d3f3",
           "#FF6692",
           "#B6E880",
           "#FF97FF",
           "#FECB52"
          ],
          "font": {
           "color": "#2a3f5f"
          },
          "geo": {
           "bgcolor": "white",
           "lakecolor": "white",
           "landcolor": "#E5ECF6",
           "showlakes": true,
           "showland": true,
           "subunitcolor": "white"
          },
          "hoverlabel": {
           "align": "left"
          },
          "hovermode": "closest",
          "mapbox": {
           "style": "light"
          },
          "paper_bgcolor": "white",
          "plot_bgcolor": "#E5ECF6",
          "polar": {
           "angularaxis": {
            "gridcolor": "white",
            "linecolor": "white",
            "ticks": ""
           },
           "bgcolor": "#E5ECF6",
           "radialaxis": {
            "gridcolor": "white",
            "linecolor": "white",
            "ticks": ""
           }
          },
          "scene": {
           "xaxis": {
            "backgroundcolor": "#E5ECF6",
            "gridcolor": "white",
            "gridwidth": 2,
            "linecolor": "white",
            "showbackground": true,
            "ticks": "",
            "zerolinecolor": "white"
           },
           "yaxis": {
            "backgroundcolor": "#E5ECF6",
            "gridcolor": "white",
            "gridwidth": 2,
            "linecolor": "white",
            "showbackground": true,
            "ticks": "",
            "zerolinecolor": "white"
           },
           "zaxis": {
            "backgroundcolor": "#E5ECF6",
            "gridcolor": "white",
            "gridwidth": 2,
            "linecolor": "white",
            "showbackground": true,
            "ticks": "",
            "zerolinecolor": "white"
           }
          },
          "shapedefaults": {
           "line": {
            "color": "#2a3f5f"
           }
          },
          "ternary": {
           "aaxis": {
            "gridcolor": "white",
            "linecolor": "white",
            "ticks": ""
           },
           "baxis": {
            "gridcolor": "white",
            "linecolor": "white",
            "ticks": ""
           },
           "bgcolor": "#E5ECF6",
           "caxis": {
            "gridcolor": "white",
            "linecolor": "white",
            "ticks": ""
           }
          },
          "title": {
           "x": 0.05
          },
          "xaxis": {
           "automargin": true,
           "gridcolor": "white",
           "linecolor": "white",
           "ticks": "",
           "title": {
            "standoff": 15
           },
           "zerolinecolor": "white",
           "zerolinewidth": 2
          },
          "yaxis": {
           "automargin": true,
           "gridcolor": "white",
           "linecolor": "white",
           "ticks": "",
           "title": {
            "standoff": 15
           },
           "zerolinecolor": "white",
           "zerolinewidth": 2
          }
         }
        },
        "title": {
         "text": "Scatter Plot of Number of Yards vs Pass Completion"
        },
        "xaxis": {
         "anchor": "y",
         "domain": [
          0,
          1
         ],
         "title": {
          "text": "Cmp"
         }
        },
        "yaxis": {
         "anchor": "x",
         "domain": [
          0,
          1
         ],
         "title": {
          "text": "Number of Yards"
         }
        }
       }
      },
      "text/html": [
       "<div>                            <div id=\"bc7ca193-46f6-4a7a-a678-d275be7be3cd\" class=\"plotly-graph-div\" style=\"height:525px; width:100%;\"></div>            <script type=\"text/javascript\">                require([\"plotly\"], function(Plotly) {                    window.PLOTLYENV=window.PLOTLYENV || {};                                    if (document.getElementById(\"bc7ca193-46f6-4a7a-a678-d275be7be3cd\")) {                    Plotly.newPlot(                        \"bc7ca193-46f6-4a7a-a678-d275be7be3cd\",                        [{\"customdata\":[[\"Deshaun Watson*\"],[\"Patrick Mahomes*\"],[\"Tom Brady\"],[\"Matt Ryan\"],[\"Josh Allen*\"],[\"Justin Herbert\"],[\"Aaron Rodgers*+\"],[\"Kirk Cousins\"],[\"Russell Wilson*\"],[\"Philip Rivers\"],[\"Derek Carr\"],[\"Matthew Stafford\"]],\"hovertemplate\":\"color=Over 4000<br>Cmp=%{x}<br>Yds=%{y}<br>Player=%{customdata[0]}<extra></extra>\",\"legendgroup\":\"Over 4000\",\"marker\":{\"color\":\"red\",\"symbol\":\"circle\"},\"mode\":\"markers\",\"name\":\"Over 4000\",\"orientation\":\"v\",\"showlegend\":true,\"x\":[382,390,401,407,396,396,372,349,384,369,348,339],\"xaxis\":\"x\",\"y\":[4823,4740,4633,4581,4544,4336,4299,4265,4212,4169,4103,4084],\"yaxis\":\"y\",\"type\":\"scatter\"},{\"customdata\":[[\"Kyler Murray*\"],[\"Jared Goff\"],[\"Ryan Tannehill\"],[\"Ben Roethlisberger\"],[\"Teddy Bridgewater\"],[\"Baker Mayfield\"]],\"hovertemplate\":\"color=3000-4000<br>Cmp=%{x}<br>Yds=%{y}<br>Player=%{customdata[0]}<extra></extra>\",\"legendgroup\":\"3000-4000\",\"marker\":{\"color\":\"blue\",\"symbol\":\"circle\"},\"mode\":\"markers\",\"name\":\"3000-4000\",\"orientation\":\"v\",\"showlegend\":true,\"x\":[375,370,315,399,340,305],\"xaxis\":\"x\",\"y\":[3971,3952,3819,3803,3733,3563],\"yaxis\":\"y\",\"type\":\"scatter\"},{\"customdata\":[[\"Daniel Jones\"],[\"Drew Brees\"],[\"Drew Lock\"],[\"Lamar Jackson\"],[\"Cam Newton\"],[\"Carson Wentz\"],[\"Sam Darnold\"]],\"hovertemplate\":\"color=2000-3000<br>Cmp=%{x}<br>Yds=%{y}<br>Player=%{customdata[0]}<extra></extra>\",\"legendgroup\":\"2000-3000\",\"marker\":{\"color\":\"green\",\"symbol\":\"circle\"},\"mode\":\"markers\",\"name\":\"2000-3000\",\"orientation\":\"v\",\"showlegend\":true,\"x\":[280,275,254,242,242,251,217],\"xaxis\":\"x\",\"y\":[2943,2942,2933,2757,2657,2620,2208],\"yaxis\":\"y\",\"type\":\"scatter\"}],                        {\"template\":{\"data\":{\"histogram2dcontour\":[{\"type\":\"histogram2dcontour\",\"colorbar\":{\"outlinewidth\":0,\"ticks\":\"\"},\"colorscale\":[[0.0,\"#0d0887\"],[0.1111111111111111,\"#46039f\"],[0.2222222222222222,\"#7201a8\"],[0.3333333333333333,\"#9c179e\"],[0.4444444444444444,\"#bd3786\"],[0.5555555555555556,\"#d8576b\"],[0.6666666666666666,\"#ed7953\"],[0.7777777777777778,\"#fb9f3a\"],[0.8888888888888888,\"#fdca26\"],[1.0,\"#f0f921\"]]}],\"choropleth\":[{\"type\":\"choropleth\",\"colorbar\":{\"outlinewidth\":0,\"ticks\":\"\"}}],\"histogram2d\":[{\"type\":\"histogram2d\",\"colorbar\":{\"outlinewidth\":0,\"ticks\":\"\"},\"colorscale\":[[0.0,\"#0d0887\"],[0.1111111111111111,\"#46039f\"],[0.2222222222222222,\"#7201a8\"],[0.3333333333333333,\"#9c179e\"],[0.4444444444444444,\"#bd3786\"],[0.5555555555555556,\"#d8576b\"],[0.6666666666666666,\"#ed7953\"],[0.7777777777777778,\"#fb9f3a\"],[0.8888888888888888,\"#fdca26\"],[1.0,\"#f0f921\"]]}],\"heatmap\":[{\"type\":\"heatmap\",\"colorbar\":{\"outlinewidth\":0,\"ticks\":\"\"},\"colorscale\":[[0.0,\"#0d0887\"],[0.1111111111111111,\"#46039f\"],[0.2222222222222222,\"#7201a8\"],[0.3333333333333333,\"#9c179e\"],[0.4444444444444444,\"#bd3786\"],[0.5555555555555556,\"#d8576b\"],[0.6666666666666666,\"#ed7953\"],[0.7777777777777778,\"#fb9f3a\"],[0.8888888888888888,\"#fdca26\"],[1.0,\"#f0f921\"]]}],\"heatmapgl\":[{\"type\":\"heatmapgl\",\"colorbar\":{\"outlinewidth\":0,\"ticks\":\"\"},\"colorscale\":[[0.0,\"#0d0887\"],[0.1111111111111111,\"#46039f\"],[0.2222222222222222,\"#7201a8\"],[0.3333333333333333,\"#9c179e\"],[0.4444444444444444,\"#bd3786\"],[0.5555555555555556,\"#d8576b\"],[0.6666666666666666,\"#ed7953\"],[0.7777777777777778,\"#fb9f3a\"],[0.8888888888888888,\"#fdca26\"],[1.0,\"#f0f921\"]]}],\"contourcarpet\":[{\"type\":\"contourcarpet\",\"colorbar\":{\"outlinewidth\":0,\"ticks\":\"\"}}],\"contour\":[{\"type\":\"contour\",\"colorbar\":{\"outlinewidth\":0,\"ticks\":\"\"},\"colorscale\":[[0.0,\"#0d0887\"],[0.1111111111111111,\"#46039f\"],[0.2222222222222222,\"#7201a8\"],[0.3333333333333333,\"#9c179e\"],[0.4444444444444444,\"#bd3786\"],[0.5555555555555556,\"#d8576b\"],[0.6666666666666666,\"#ed7953\"],[0.7777777777777778,\"#fb9f3a\"],[0.8888888888888888,\"#fdca26\"],[1.0,\"#f0f921\"]]}],\"surface\":[{\"type\":\"surface\",\"colorbar\":{\"outlinewidth\":0,\"ticks\":\"\"},\"colorscale\":[[0.0,\"#0d0887\"],[0.1111111111111111,\"#46039f\"],[0.2222222222222222,\"#7201a8\"],[0.3333333333333333,\"#9c179e\"],[0.4444444444444444,\"#bd3786\"],[0.5555555555555556,\"#d8576b\"],[0.6666666666666666,\"#ed7953\"],[0.7777777777777778,\"#fb9f3a\"],[0.8888888888888888,\"#fdca26\"],[1.0,\"#f0f921\"]]}],\"mesh3d\":[{\"type\":\"mesh3d\",\"colorbar\":{\"outlinewidth\":0,\"ticks\":\"\"}}],\"scatter\":[{\"fillpattern\":{\"fillmode\":\"overlay\",\"size\":10,\"solidity\":0.2},\"type\":\"scatter\"}],\"parcoords\":[{\"type\":\"parcoords\",\"line\":{\"colorbar\":{\"outlinewidth\":0,\"ticks\":\"\"}}}],\"scatterpolargl\":[{\"type\":\"scatterpolargl\",\"marker\":{\"colorbar\":{\"outlinewidth\":0,\"ticks\":\"\"}}}],\"bar\":[{\"error_x\":{\"color\":\"#2a3f5f\"},\"error_y\":{\"color\":\"#2a3f5f\"},\"marker\":{\"line\":{\"color\":\"#E5ECF6\",\"width\":0.5},\"pattern\":{\"fillmode\":\"overlay\",\"size\":10,\"solidity\":0.2}},\"type\":\"bar\"}],\"scattergeo\":[{\"type\":\"scattergeo\",\"marker\":{\"colorbar\":{\"outlinewidth\":0,\"ticks\":\"\"}}}],\"scatterpolar\":[{\"type\":\"scatterpolar\",\"marker\":{\"colorbar\":{\"outlinewidth\":0,\"ticks\":\"\"}}}],\"histogram\":[{\"marker\":{\"pattern\":{\"fillmode\":\"overlay\",\"size\":10,\"solidity\":0.2}},\"type\":\"histogram\"}],\"scattergl\":[{\"type\":\"scattergl\",\"marker\":{\"colorbar\":{\"outlinewidth\":0,\"ticks\":\"\"}}}],\"scatter3d\":[{\"type\":\"scatter3d\",\"line\":{\"colorbar\":{\"outlinewidth\":0,\"ticks\":\"\"}},\"marker\":{\"colorbar\":{\"outlinewidth\":0,\"ticks\":\"\"}}}],\"scattermapbox\":[{\"type\":\"scattermapbox\",\"marker\":{\"colorbar\":{\"outlinewidth\":0,\"ticks\":\"\"}}}],\"scatterternary\":[{\"type\":\"scatterternary\",\"marker\":{\"colorbar\":{\"outlinewidth\":0,\"ticks\":\"\"}}}],\"scattercarpet\":[{\"type\":\"scattercarpet\",\"marker\":{\"colorbar\":{\"outlinewidth\":0,\"ticks\":\"\"}}}],\"carpet\":[{\"aaxis\":{\"endlinecolor\":\"#2a3f5f\",\"gridcolor\":\"white\",\"linecolor\":\"white\",\"minorgridcolor\":\"white\",\"startlinecolor\":\"#2a3f5f\"},\"baxis\":{\"endlinecolor\":\"#2a3f5f\",\"gridcolor\":\"white\",\"linecolor\":\"white\",\"minorgridcolor\":\"white\",\"startlinecolor\":\"#2a3f5f\"},\"type\":\"carpet\"}],\"table\":[{\"cells\":{\"fill\":{\"color\":\"#EBF0F8\"},\"line\":{\"color\":\"white\"}},\"header\":{\"fill\":{\"color\":\"#C8D4E3\"},\"line\":{\"color\":\"white\"}},\"type\":\"table\"}],\"barpolar\":[{\"marker\":{\"line\":{\"color\":\"#E5ECF6\",\"width\":0.5},\"pattern\":{\"fillmode\":\"overlay\",\"size\":10,\"solidity\":0.2}},\"type\":\"barpolar\"}],\"pie\":[{\"automargin\":true,\"type\":\"pie\"}]},\"layout\":{\"autotypenumbers\":\"strict\",\"colorway\":[\"#636efa\",\"#EF553B\",\"#00cc96\",\"#ab63fa\",\"#FFA15A\",\"#19d3f3\",\"#FF6692\",\"#B6E880\",\"#FF97FF\",\"#FECB52\"],\"font\":{\"color\":\"#2a3f5f\"},\"hovermode\":\"closest\",\"hoverlabel\":{\"align\":\"left\"},\"paper_bgcolor\":\"white\",\"plot_bgcolor\":\"#E5ECF6\",\"polar\":{\"bgcolor\":\"#E5ECF6\",\"angularaxis\":{\"gridcolor\":\"white\",\"linecolor\":\"white\",\"ticks\":\"\"},\"radialaxis\":{\"gridcolor\":\"white\",\"linecolor\":\"white\",\"ticks\":\"\"}},\"ternary\":{\"bgcolor\":\"#E5ECF6\",\"aaxis\":{\"gridcolor\":\"white\",\"linecolor\":\"white\",\"ticks\":\"\"},\"baxis\":{\"gridcolor\":\"white\",\"linecolor\":\"white\",\"ticks\":\"\"},\"caxis\":{\"gridcolor\":\"white\",\"linecolor\":\"white\",\"ticks\":\"\"}},\"coloraxis\":{\"colorbar\":{\"outlinewidth\":0,\"ticks\":\"\"}},\"colorscale\":{\"sequential\":[[0.0,\"#0d0887\"],[0.1111111111111111,\"#46039f\"],[0.2222222222222222,\"#7201a8\"],[0.3333333333333333,\"#9c179e\"],[0.4444444444444444,\"#bd3786\"],[0.5555555555555556,\"#d8576b\"],[0.6666666666666666,\"#ed7953\"],[0.7777777777777778,\"#fb9f3a\"],[0.8888888888888888,\"#fdca26\"],[1.0,\"#f0f921\"]],\"sequentialminus\":[[0.0,\"#0d0887\"],[0.1111111111111111,\"#46039f\"],[0.2222222222222222,\"#7201a8\"],[0.3333333333333333,\"#9c179e\"],[0.4444444444444444,\"#bd3786\"],[0.5555555555555556,\"#d8576b\"],[0.6666666666666666,\"#ed7953\"],[0.7777777777777778,\"#fb9f3a\"],[0.8888888888888888,\"#fdca26\"],[1.0,\"#f0f921\"]],\"diverging\":[[0,\"#8e0152\"],[0.1,\"#c51b7d\"],[0.2,\"#de77ae\"],[0.3,\"#f1b6da\"],[0.4,\"#fde0ef\"],[0.5,\"#f7f7f7\"],[0.6,\"#e6f5d0\"],[0.7,\"#b8e186\"],[0.8,\"#7fbc41\"],[0.9,\"#4d9221\"],[1,\"#276419\"]]},\"xaxis\":{\"gridcolor\":\"white\",\"linecolor\":\"white\",\"ticks\":\"\",\"title\":{\"standoff\":15},\"zerolinecolor\":\"white\",\"automargin\":true,\"zerolinewidth\":2},\"yaxis\":{\"gridcolor\":\"white\",\"linecolor\":\"white\",\"ticks\":\"\",\"title\":{\"standoff\":15},\"zerolinecolor\":\"white\",\"automargin\":true,\"zerolinewidth\":2},\"scene\":{\"xaxis\":{\"backgroundcolor\":\"#E5ECF6\",\"gridcolor\":\"white\",\"linecolor\":\"white\",\"showbackground\":true,\"ticks\":\"\",\"zerolinecolor\":\"white\",\"gridwidth\":2},\"yaxis\":{\"backgroundcolor\":\"#E5ECF6\",\"gridcolor\":\"white\",\"linecolor\":\"white\",\"showbackground\":true,\"ticks\":\"\",\"zerolinecolor\":\"white\",\"gridwidth\":2},\"zaxis\":{\"backgroundcolor\":\"#E5ECF6\",\"gridcolor\":\"white\",\"linecolor\":\"white\",\"showbackground\":true,\"ticks\":\"\",\"zerolinecolor\":\"white\",\"gridwidth\":2}},\"shapedefaults\":{\"line\":{\"color\":\"#2a3f5f\"}},\"annotationdefaults\":{\"arrowcolor\":\"#2a3f5f\",\"arrowhead\":0,\"arrowwidth\":1},\"geo\":{\"bgcolor\":\"white\",\"landcolor\":\"#E5ECF6\",\"subunitcolor\":\"white\",\"showland\":true,\"showlakes\":true,\"lakecolor\":\"white\"},\"title\":{\"x\":0.05},\"mapbox\":{\"style\":\"light\"}}},\"xaxis\":{\"anchor\":\"y\",\"domain\":[0.0,1.0],\"title\":{\"text\":\"Cmp\"}},\"yaxis\":{\"anchor\":\"x\",\"domain\":[0.0,1.0],\"title\":{\"text\":\"Number of Yards\"}},\"legend\":{\"title\":{\"text\":\"color\"},\"tracegroupgap\":0},\"title\":{\"text\":\"Scatter Plot of Number of Yards vs Pass Completion\"}},                        {\"responsive\": true}                    ).then(function(){\n",
       "                            \n",
       "var gd = document.getElementById('bc7ca193-46f6-4a7a-a678-d275be7be3cd');\n",
       "var x = new MutationObserver(function (mutations, observer) {{\n",
       "        var display = window.getComputedStyle(gd).display;\n",
       "        if (!display || display === 'none') {{\n",
       "            console.log([gd, 'removed!']);\n",
       "            Plotly.purge(gd);\n",
       "            observer.disconnect();\n",
       "        }}\n",
       "}});\n",
       "\n",
       "// Listen for the removal of the full notebook cells\n",
       "var notebookContainer = gd.closest('#notebook-container');\n",
       "if (notebookContainer) {{\n",
       "    x.observe(notebookContainer, {childList: true});\n",
       "}}\n",
       "\n",
       "// Listen for the clearing of the current output cell\n",
       "var outputEl = gd.closest('.output');\n",
       "if (outputEl) {{\n",
       "    x.observe(outputEl, {childList: true});\n",
       "}}\n",
       "\n",
       "                        })                };                });            </script>        </div>"
      ]
     },
     "metadata": {},
     "output_type": "display_data"
    }
   ],
   "source": [
    "\n",
    "import plotly.express as px\n",
    "\n",
    "\n",
    "# Filter the DataFrame to include only players with more than 10 games and Posititon QB\n",
    "df_filtered = df[(df['GS'] > 10) & (df['Pos'] == 'QB')]\n",
    "\n",
    "# Create the categories\n",
    "def categorize_yards(yards):\n",
    "    if yards > 4000:\n",
    "        return 'Over 4000'\n",
    "    elif 3000 <= yards <= 4000:\n",
    "        return '3000-4000'\n",
    "    elif 2000 <= yards < 3000:\n",
    "        return '2000-3000'\n",
    "    else:\n",
    "        return 'Below 2000'\n",
    "\n",
    "\n",
    "\n",
    "# Create a scatter plot with hover functionality and custom color mapping\n",
    "color_mapping = {\n",
    "    'Over 4000': 'red',\n",
    "    '3000-4000': 'blue',\n",
    "    '2000-3000': 'green',\n",
    "    'Below 2000': 'orange'\n",
    "}\n",
    "\n",
    "fig = px.scatter(df_filtered, hover_data=['Player'], y='Yds',x='Cmp',  color=df_filtered['Yds'].apply(categorize_yards), title='Scatter Plot of Number of Yards vs Pass Completion', color_discrete_map=color_mapping)\n",
    " \n",
    "# Add labels and titles\n",
    "fig.update_layout(\n",
    "    xaxis_title='Cmp',\n",
    "    yaxis_title='Number of Yards',\n",
    ")\n",
    "\n",
    "# Show the plot\n",
    "fig.show()\n",
    "\n"
   ]
  },
  {
   "cell_type": "code",
   "execution_count": 28,
   "id": "3b252f63",
   "metadata": {},
   "outputs": [
    {
     "name": "stdout",
     "output_type": "stream",
     "text": [
      "Top Quarterback by Win-Loss Ratio (with more than 10 games played):\n",
      "                Player  Win_Loss_Ratio\n",
      "1     Patrick Mahomes*        0.933333\n",
      "4          Josh Allen*        0.812500\n",
      "6      Aaron Rodgers*+        0.812500\n",
      "15  Ben Roethlisberger        0.800000\n",
      "39         Taysom Hill        0.750000\n",
      "19          Drew Brees        0.750000\n",
      "8      Russell Wilson*        0.750000\n",
      "21       Lamar Jackson        0.733333\n",
      "17      Baker Mayfield        0.687500\n",
      "14      Ryan Tannehill        0.687500\n"
     ]
    }
   ],
   "source": [
    "# top Players by Win-Loss Ratio (with more than 10 games played)\n",
    "\n",
    "\n",
    "# Assuming df_copy is your DataFrame\n",
    "\n",
    "def calculate_win_loss_ratio(row):\n",
    "    if pd.isna(row['QBrec']) or row['QBrec'] == 'DNS' or pd.isna(row['G']):\n",
    "        return None\n",
    "    \n",
    "    # Check if the number of games is greater than 10\n",
    "    if int(row['G']) > 10:\n",
    "        try:\n",
    "            wins, losses, ties = map(int, row['QBrec'].split('-'))\n",
    "            # Win-Loss Ratio = Wins / (Wins + Losses)\n",
    "            return wins / (wins + losses)\n",
    "        except ValueError:\n",
    "            return None\n",
    "    else:\n",
    "        return None\n",
    "\n",
    "df_copy['Win_Loss_Ratio'] = df_copy.apply(calculate_win_loss_ratio, axis=1)\n",
    "\n",
    "# Display top players with the best win-loss ratios\n",
    "top_win_loss_players = df_copy.dropna(subset=['Win_Loss_Ratio']).sort_values(by='Win_Loss_Ratio', ascending=False).head(10)\n",
    "print(\"Top Quarterback by Win-Loss Ratio (with more than 10 games played):\")\n",
    "print(top_win_loss_players[['Player', 'Win_Loss_Ratio']])\n",
    "\n",
    "\n",
    "\n"
   ]
  },
  {
   "cell_type": "code",
   "execution_count": 31,
   "id": "eb3ab87a",
   "metadata": {},
   "outputs": [
    {
     "name": "stdout",
     "output_type": "stream",
     "text": [
      "QBR Comparison for > 10 Games:\n",
      "              Player  Cmp%   Yds  TD  Int   Rate\n",
      "6    Aaron Rodgers*+  70.7  4299  48    5  121.5\n",
      "0    Deshaun Watson*  70.2  4823  33    7  112.4\n",
      "1   Patrick Mahomes*  66.3  4740  38    6  108.2\n",
      "4        Josh Allen*  69.2  4544  37   10  107.2\n",
      "14    Ryan Tannehill  65.5  3819  33    7  106.5\n",
      "19        Drew Brees  70.5  2942  24    6  106.4\n",
      "8    Russell Wilson*  68.8  4212  40   13  105.1\n",
      "7       Kirk Cousins  67.6  4265  35   13  105.0\n",
      "2          Tom Brady  65.7  4633  40   12  102.2\n",
      "10        Derek Carr  67.3  4103  27    9  101.4\n"
     ]
    }
   ],
   "source": [
    "# rank by best Qb Rate with > 10 games\n",
    "\n",
    "# Define the filtering conditions\n",
    "filter_condition = (df['GS'] > 10) & (df['Pos'] == 'QB')\n",
    "\n",
    "# Apply the filter\n",
    "filtered_and_ranked_players = df[filter_condition].sort_values(by='Rate', ascending=False)\n",
    "\n",
    "# Select columns for comparison\n",
    "comparison_columns = ['Player', 'Cmp%', 'Yds', 'TD', 'Int', 'Rate']\n",
    "\n",
    "# Display top players and their performance metrics for comparison\n",
    "top_players_comparison = filtered_and_ranked_players.head(10)\n",
    "print(\"QBR Comparison for > 10 Games:\")\n",
    "print(top_players_comparison[comparison_columns])\n",
    "\n",
    "\n"
   ]
  },
  {
   "cell_type": "code",
   "execution_count": 45,
   "id": "45cf5ae3",
   "metadata": {},
   "outputs": [
    {
     "data": {
      "application/vnd.plotly.v1+json": {
       "config": {
        "plotlyServerURL": "https://plot.ly"
       },
       "data": [
        {
         "hovertemplate": "Total Passing Yards=%{x}<br>Total Wins=%{y}<br>Tm=%{text}<extra></extra>",
         "legendgroup": "",
         "marker": {
          "color": "#636efa",
          "symbol": "circle"
         },
         "mode": "markers+text",
         "name": "",
         "orientation": "v",
         "showlegend": false,
         "text": [
          "KAN",
          "HOU",
          "TAM",
          "BUF",
          "ATL",
          "LAC",
          "DAL",
          "DET",
          "LVR",
          "SFO",
          "GNB",
          "MIN",
          "SEA",
          "IND",
          "LAR",
          "PIT",
          "CAR",
          "ARI",
          "JAX",
          "CHI",
          "MIA",
          "TEN",
          "CIN",
          "WAS",
          "PHI",
          "DEN",
          "CLE",
          "NYG",
          "NYJ",
          "NWE",
          "NOR",
          "BAL"
         ],
         "type": "scatter",
         "x": [
          4988,
          4843,
          4776,
          4741,
          4581,
          4548,
          4488,
          4397,
          4354,
          4320,
          4299,
          4265,
          4245,
          4186,
          4183,
          4129,
          4101,
          4076,
          3955,
          3925,
          3905,
          3826,
          3777,
          3768,
          3713,
          3660,
          3609,
          3318,
          3072,
          3043,
          3017,
          2904
         ],
         "xaxis": "x",
         "y": [
          14,
          4,
          11,
          13,
          4,
          7,
          6,
          5,
          8,
          6,
          13,
          7,
          12,
          11,
          10,
          12,
          5,
          8,
          1,
          8,
          10,
          11,
          4,
          7,
          4,
          5,
          11,
          6,
          2,
          7,
          9,
          11
         ],
         "yaxis": "y"
        },
        {
         "hovertemplate": "<b>OLS trendline</b><br>Wins = 0.00126076 * Yds + 2.79208<br>R<sup>2</sup>=0.040662<br><br>Total Passing Yards=%{x}<br>Total Wins=%{y} <b>(trend)</b><extra></extra>",
         "legendgroup": "",
         "marker": {
          "color": "#636efa",
          "symbol": "circle"
         },
         "mode": "lines",
         "name": "",
         "showlegend": false,
         "type": "scatter",
         "x": [
          2904,
          3017,
          3043,
          3072,
          3318,
          3609,
          3660,
          3713,
          3768,
          3777,
          3826,
          3905,
          3925,
          3955,
          4076,
          4101,
          4129,
          4183,
          4186,
          4245,
          4265,
          4299,
          4320,
          4354,
          4397,
          4488,
          4548,
          4581,
          4741,
          4776,
          4843,
          4988
         ],
         "xaxis": "x",
         "y": [
          6.453334464489016,
          6.595800448759267,
          6.628580232750652,
          6.665142299510274,
          6.975289486505687,
          7.342170915024651,
          7.406469722084676,
          7.473290050990192,
          7.542631901741199,
          7.553978750045909,
          7.615756035260443,
          7.715356148157344,
          7.740571366612256,
          7.7783941942946235,
          7.930946265946838,
          7.962465289015478,
          7.997766594852354,
          8.065847684680616,
          8.069629967448853,
          8.144014861890842,
          8.169230080345754,
          8.212095951719103,
          8.238571931096761,
          8.28143780247011,
          8.33565052214817,
          8.450379766118019,
          8.526025421482753,
          8.567630531933357,
          8.76935227957265,
          8.813478911868746,
          8.897949893692699,
          9.08076022749081
         ],
         "yaxis": "y"
        }
       ],
       "layout": {
        "legend": {
         "tracegroupgap": 0
        },
        "template": {
         "data": {
          "bar": [
           {
            "error_x": {
             "color": "#2a3f5f"
            },
            "error_y": {
             "color": "#2a3f5f"
            },
            "marker": {
             "line": {
              "color": "#E5ECF6",
              "width": 0.5
             },
             "pattern": {
              "fillmode": "overlay",
              "size": 10,
              "solidity": 0.2
             }
            },
            "type": "bar"
           }
          ],
          "barpolar": [
           {
            "marker": {
             "line": {
              "color": "#E5ECF6",
              "width": 0.5
             },
             "pattern": {
              "fillmode": "overlay",
              "size": 10,
              "solidity": 0.2
             }
            },
            "type": "barpolar"
           }
          ],
          "carpet": [
           {
            "aaxis": {
             "endlinecolor": "#2a3f5f",
             "gridcolor": "white",
             "linecolor": "white",
             "minorgridcolor": "white",
             "startlinecolor": "#2a3f5f"
            },
            "baxis": {
             "endlinecolor": "#2a3f5f",
             "gridcolor": "white",
             "linecolor": "white",
             "minorgridcolor": "white",
             "startlinecolor": "#2a3f5f"
            },
            "type": "carpet"
           }
          ],
          "choropleth": [
           {
            "colorbar": {
             "outlinewidth": 0,
             "ticks": ""
            },
            "type": "choropleth"
           }
          ],
          "contour": [
           {
            "colorbar": {
             "outlinewidth": 0,
             "ticks": ""
            },
            "colorscale": [
             [
              0,
              "#0d0887"
             ],
             [
              0.1111111111111111,
              "#46039f"
             ],
             [
              0.2222222222222222,
              "#7201a8"
             ],
             [
              0.3333333333333333,
              "#9c179e"
             ],
             [
              0.4444444444444444,
              "#bd3786"
             ],
             [
              0.5555555555555556,
              "#d8576b"
             ],
             [
              0.6666666666666666,
              "#ed7953"
             ],
             [
              0.7777777777777778,
              "#fb9f3a"
             ],
             [
              0.8888888888888888,
              "#fdca26"
             ],
             [
              1,
              "#f0f921"
             ]
            ],
            "type": "contour"
           }
          ],
          "contourcarpet": [
           {
            "colorbar": {
             "outlinewidth": 0,
             "ticks": ""
            },
            "type": "contourcarpet"
           }
          ],
          "heatmap": [
           {
            "colorbar": {
             "outlinewidth": 0,
             "ticks": ""
            },
            "colorscale": [
             [
              0,
              "#0d0887"
             ],
             [
              0.1111111111111111,
              "#46039f"
             ],
             [
              0.2222222222222222,
              "#7201a8"
             ],
             [
              0.3333333333333333,
              "#9c179e"
             ],
             [
              0.4444444444444444,
              "#bd3786"
             ],
             [
              0.5555555555555556,
              "#d8576b"
             ],
             [
              0.6666666666666666,
              "#ed7953"
             ],
             [
              0.7777777777777778,
              "#fb9f3a"
             ],
             [
              0.8888888888888888,
              "#fdca26"
             ],
             [
              1,
              "#f0f921"
             ]
            ],
            "type": "heatmap"
           }
          ],
          "heatmapgl": [
           {
            "colorbar": {
             "outlinewidth": 0,
             "ticks": ""
            },
            "colorscale": [
             [
              0,
              "#0d0887"
             ],
             [
              0.1111111111111111,
              "#46039f"
             ],
             [
              0.2222222222222222,
              "#7201a8"
             ],
             [
              0.3333333333333333,
              "#9c179e"
             ],
             [
              0.4444444444444444,
              "#bd3786"
             ],
             [
              0.5555555555555556,
              "#d8576b"
             ],
             [
              0.6666666666666666,
              "#ed7953"
             ],
             [
              0.7777777777777778,
              "#fb9f3a"
             ],
             [
              0.8888888888888888,
              "#fdca26"
             ],
             [
              1,
              "#f0f921"
             ]
            ],
            "type": "heatmapgl"
           }
          ],
          "histogram": [
           {
            "marker": {
             "pattern": {
              "fillmode": "overlay",
              "size": 10,
              "solidity": 0.2
             }
            },
            "type": "histogram"
           }
          ],
          "histogram2d": [
           {
            "colorbar": {
             "outlinewidth": 0,
             "ticks": ""
            },
            "colorscale": [
             [
              0,
              "#0d0887"
             ],
             [
              0.1111111111111111,
              "#46039f"
             ],
             [
              0.2222222222222222,
              "#7201a8"
             ],
             [
              0.3333333333333333,
              "#9c179e"
             ],
             [
              0.4444444444444444,
              "#bd3786"
             ],
             [
              0.5555555555555556,
              "#d8576b"
             ],
             [
              0.6666666666666666,
              "#ed7953"
             ],
             [
              0.7777777777777778,
              "#fb9f3a"
             ],
             [
              0.8888888888888888,
              "#fdca26"
             ],
             [
              1,
              "#f0f921"
             ]
            ],
            "type": "histogram2d"
           }
          ],
          "histogram2dcontour": [
           {
            "colorbar": {
             "outlinewidth": 0,
             "ticks": ""
            },
            "colorscale": [
             [
              0,
              "#0d0887"
             ],
             [
              0.1111111111111111,
              "#46039f"
             ],
             [
              0.2222222222222222,
              "#7201a8"
             ],
             [
              0.3333333333333333,
              "#9c179e"
             ],
             [
              0.4444444444444444,
              "#bd3786"
             ],
             [
              0.5555555555555556,
              "#d8576b"
             ],
             [
              0.6666666666666666,
              "#ed7953"
             ],
             [
              0.7777777777777778,
              "#fb9f3a"
             ],
             [
              0.8888888888888888,
              "#fdca26"
             ],
             [
              1,
              "#f0f921"
             ]
            ],
            "type": "histogram2dcontour"
           }
          ],
          "mesh3d": [
           {
            "colorbar": {
             "outlinewidth": 0,
             "ticks": ""
            },
            "type": "mesh3d"
           }
          ],
          "parcoords": [
           {
            "line": {
             "colorbar": {
              "outlinewidth": 0,
              "ticks": ""
             }
            },
            "type": "parcoords"
           }
          ],
          "pie": [
           {
            "automargin": true,
            "type": "pie"
           }
          ],
          "scatter": [
           {
            "fillpattern": {
             "fillmode": "overlay",
             "size": 10,
             "solidity": 0.2
            },
            "type": "scatter"
           }
          ],
          "scatter3d": [
           {
            "line": {
             "colorbar": {
              "outlinewidth": 0,
              "ticks": ""
             }
            },
            "marker": {
             "colorbar": {
              "outlinewidth": 0,
              "ticks": ""
             }
            },
            "type": "scatter3d"
           }
          ],
          "scattercarpet": [
           {
            "marker": {
             "colorbar": {
              "outlinewidth": 0,
              "ticks": ""
             }
            },
            "type": "scattercarpet"
           }
          ],
          "scattergeo": [
           {
            "marker": {
             "colorbar": {
              "outlinewidth": 0,
              "ticks": ""
             }
            },
            "type": "scattergeo"
           }
          ],
          "scattergl": [
           {
            "marker": {
             "colorbar": {
              "outlinewidth": 0,
              "ticks": ""
             }
            },
            "type": "scattergl"
           }
          ],
          "scattermapbox": [
           {
            "marker": {
             "colorbar": {
              "outlinewidth": 0,
              "ticks": ""
             }
            },
            "type": "scattermapbox"
           }
          ],
          "scatterpolar": [
           {
            "marker": {
             "colorbar": {
              "outlinewidth": 0,
              "ticks": ""
             }
            },
            "type": "scatterpolar"
           }
          ],
          "scatterpolargl": [
           {
            "marker": {
             "colorbar": {
              "outlinewidth": 0,
              "ticks": ""
             }
            },
            "type": "scatterpolargl"
           }
          ],
          "scatterternary": [
           {
            "marker": {
             "colorbar": {
              "outlinewidth": 0,
              "ticks": ""
             }
            },
            "type": "scatterternary"
           }
          ],
          "surface": [
           {
            "colorbar": {
             "outlinewidth": 0,
             "ticks": ""
            },
            "colorscale": [
             [
              0,
              "#0d0887"
             ],
             [
              0.1111111111111111,
              "#46039f"
             ],
             [
              0.2222222222222222,
              "#7201a8"
             ],
             [
              0.3333333333333333,
              "#9c179e"
             ],
             [
              0.4444444444444444,
              "#bd3786"
             ],
             [
              0.5555555555555556,
              "#d8576b"
             ],
             [
              0.6666666666666666,
              "#ed7953"
             ],
             [
              0.7777777777777778,
              "#fb9f3a"
             ],
             [
              0.8888888888888888,
              "#fdca26"
             ],
             [
              1,
              "#f0f921"
             ]
            ],
            "type": "surface"
           }
          ],
          "table": [
           {
            "cells": {
             "fill": {
              "color": "#EBF0F8"
             },
             "line": {
              "color": "white"
             }
            },
            "header": {
             "fill": {
              "color": "#C8D4E3"
             },
             "line": {
              "color": "white"
             }
            },
            "type": "table"
           }
          ]
         },
         "layout": {
          "annotationdefaults": {
           "arrowcolor": "#2a3f5f",
           "arrowhead": 0,
           "arrowwidth": 1
          },
          "autotypenumbers": "strict",
          "coloraxis": {
           "colorbar": {
            "outlinewidth": 0,
            "ticks": ""
           }
          },
          "colorscale": {
           "diverging": [
            [
             0,
             "#8e0152"
            ],
            [
             0.1,
             "#c51b7d"
            ],
            [
             0.2,
             "#de77ae"
            ],
            [
             0.3,
             "#f1b6da"
            ],
            [
             0.4,
             "#fde0ef"
            ],
            [
             0.5,
             "#f7f7f7"
            ],
            [
             0.6,
             "#e6f5d0"
            ],
            [
             0.7,
             "#b8e186"
            ],
            [
             0.8,
             "#7fbc41"
            ],
            [
             0.9,
             "#4d9221"
            ],
            [
             1,
             "#276419"
            ]
           ],
           "sequential": [
            [
             0,
             "#0d0887"
            ],
            [
             0.1111111111111111,
             "#46039f"
            ],
            [
             0.2222222222222222,
             "#7201a8"
            ],
            [
             0.3333333333333333,
             "#9c179e"
            ],
            [
             0.4444444444444444,
             "#bd3786"
            ],
            [
             0.5555555555555556,
             "#d8576b"
            ],
            [
             0.6666666666666666,
             "#ed7953"
            ],
            [
             0.7777777777777778,
             "#fb9f3a"
            ],
            [
             0.8888888888888888,
             "#fdca26"
            ],
            [
             1,
             "#f0f921"
            ]
           ],
           "sequentialminus": [
            [
             0,
             "#0d0887"
            ],
            [
             0.1111111111111111,
             "#46039f"
            ],
            [
             0.2222222222222222,
             "#7201a8"
            ],
            [
             0.3333333333333333,
             "#9c179e"
            ],
            [
             0.4444444444444444,
             "#bd3786"
            ],
            [
             0.5555555555555556,
             "#d8576b"
            ],
            [
             0.6666666666666666,
             "#ed7953"
            ],
            [
             0.7777777777777778,
             "#fb9f3a"
            ],
            [
             0.8888888888888888,
             "#fdca26"
            ],
            [
             1,
             "#f0f921"
            ]
           ]
          },
          "colorway": [
           "#636efa",
           "#EF553B",
           "#00cc96",
           "#ab63fa",
           "#FFA15A",
           "#19d3f3",
           "#FF6692",
           "#B6E880",
           "#FF97FF",
           "#FECB52"
          ],
          "font": {
           "color": "#2a3f5f"
          },
          "geo": {
           "bgcolor": "white",
           "lakecolor": "white",
           "landcolor": "#E5ECF6",
           "showlakes": true,
           "showland": true,
           "subunitcolor": "white"
          },
          "hoverlabel": {
           "align": "left"
          },
          "hovermode": "closest",
          "mapbox": {
           "style": "light"
          },
          "paper_bgcolor": "white",
          "plot_bgcolor": "#E5ECF6",
          "polar": {
           "angularaxis": {
            "gridcolor": "white",
            "linecolor": "white",
            "ticks": ""
           },
           "bgcolor": "#E5ECF6",
           "radialaxis": {
            "gridcolor": "white",
            "linecolor": "white",
            "ticks": ""
           }
          },
          "scene": {
           "xaxis": {
            "backgroundcolor": "#E5ECF6",
            "gridcolor": "white",
            "gridwidth": 2,
            "linecolor": "white",
            "showbackground": true,
            "ticks": "",
            "zerolinecolor": "white"
           },
           "yaxis": {
            "backgroundcolor": "#E5ECF6",
            "gridcolor": "white",
            "gridwidth": 2,
            "linecolor": "white",
            "showbackground": true,
            "ticks": "",
            "zerolinecolor": "white"
           },
           "zaxis": {
            "backgroundcolor": "#E5ECF6",
            "gridcolor": "white",
            "gridwidth": 2,
            "linecolor": "white",
            "showbackground": true,
            "ticks": "",
            "zerolinecolor": "white"
           }
          },
          "shapedefaults": {
           "line": {
            "color": "#2a3f5f"
           }
          },
          "ternary": {
           "aaxis": {
            "gridcolor": "white",
            "linecolor": "white",
            "ticks": ""
           },
           "baxis": {
            "gridcolor": "white",
            "linecolor": "white",
            "ticks": ""
           },
           "bgcolor": "#E5ECF6",
           "caxis": {
            "gridcolor": "white",
            "linecolor": "white",
            "ticks": ""
           }
          },
          "title": {
           "x": 0.05
          },
          "xaxis": {
           "automargin": true,
           "gridcolor": "white",
           "linecolor": "white",
           "ticks": "",
           "title": {
            "standoff": 15
           },
           "zerolinecolor": "white",
           "zerolinewidth": 2
          },
          "yaxis": {
           "automargin": true,
           "gridcolor": "white",
           "linecolor": "white",
           "ticks": "",
           "title": {
            "standoff": 15
           },
           "zerolinecolor": "white",
           "zerolinewidth": 2
          }
         }
        },
        "title": {
         "text": "Team Analysis: Passing Yards vs Wins for QBs"
        },
        "xaxis": {
         "anchor": "y",
         "domain": [
          0,
          1
         ],
         "title": {
          "text": "Total Passing Yards"
         }
        },
        "yaxis": {
         "anchor": "x",
         "domain": [
          0,
          1
         ],
         "title": {
          "text": "Total Wins"
         }
        }
       }
      },
      "text/html": [
       "<div>                            <div id=\"10142293-aeb3-4204-b9a4-2a592417bb2e\" class=\"plotly-graph-div\" style=\"height:525px; width:100%;\"></div>            <script type=\"text/javascript\">                require([\"plotly\"], function(Plotly) {                    window.PLOTLYENV=window.PLOTLYENV || {};                                    if (document.getElementById(\"10142293-aeb3-4204-b9a4-2a592417bb2e\")) {                    Plotly.newPlot(                        \"10142293-aeb3-4204-b9a4-2a592417bb2e\",                        [{\"hovertemplate\":\"Total Passing Yards=%{x}<br>Total Wins=%{y}<br>Tm=%{text}<extra></extra>\",\"legendgroup\":\"\",\"marker\":{\"color\":\"#636efa\",\"symbol\":\"circle\"},\"mode\":\"markers+text\",\"name\":\"\",\"orientation\":\"v\",\"showlegend\":false,\"text\":[\"KAN\",\"HOU\",\"TAM\",\"BUF\",\"ATL\",\"LAC\",\"DAL\",\"DET\",\"LVR\",\"SFO\",\"GNB\",\"MIN\",\"SEA\",\"IND\",\"LAR\",\"PIT\",\"CAR\",\"ARI\",\"JAX\",\"CHI\",\"MIA\",\"TEN\",\"CIN\",\"WAS\",\"PHI\",\"DEN\",\"CLE\",\"NYG\",\"NYJ\",\"NWE\",\"NOR\",\"BAL\"],\"x\":[4988,4843,4776,4741,4581,4548,4488,4397,4354,4320,4299,4265,4245,4186,4183,4129,4101,4076,3955,3925,3905,3826,3777,3768,3713,3660,3609,3318,3072,3043,3017,2904],\"xaxis\":\"x\",\"y\":[14.0,4.0,11.0,13.0,4.0,7.0,6.0,5.0,8.0,6.0,13.0,7.0,12.0,11.0,10.0,12.0,5.0,8.0,1.0,8.0,10.0,11.0,4.0,7.0,4.0,5.0,11.0,6.0,2.0,7.0,9.0,11.0],\"yaxis\":\"y\",\"type\":\"scatter\"},{\"hovertemplate\":\"<b>OLS trendline</b><br>Wins = 0.00126076 * Yds + 2.79208<br>R<sup>2</sup>=0.040662<br><br>Total Passing Yards=%{x}<br>Total Wins=%{y} <b>(trend)</b><extra></extra>\",\"legendgroup\":\"\",\"marker\":{\"color\":\"#636efa\",\"symbol\":\"circle\"},\"mode\":\"lines\",\"name\":\"\",\"showlegend\":false,\"x\":[2904,3017,3043,3072,3318,3609,3660,3713,3768,3777,3826,3905,3925,3955,4076,4101,4129,4183,4186,4245,4265,4299,4320,4354,4397,4488,4548,4581,4741,4776,4843,4988],\"xaxis\":\"x\",\"y\":[6.453334464489016,6.595800448759267,6.628580232750652,6.665142299510274,6.975289486505687,7.342170915024651,7.406469722084676,7.473290050990192,7.542631901741199,7.553978750045909,7.615756035260443,7.715356148157344,7.740571366612256,7.7783941942946235,7.930946265946838,7.962465289015478,7.997766594852354,8.065847684680616,8.069629967448853,8.144014861890842,8.169230080345754,8.212095951719103,8.238571931096761,8.28143780247011,8.33565052214817,8.450379766118019,8.526025421482753,8.567630531933357,8.76935227957265,8.813478911868746,8.897949893692699,9.08076022749081],\"yaxis\":\"y\",\"type\":\"scatter\"}],                        {\"template\":{\"data\":{\"histogram2dcontour\":[{\"type\":\"histogram2dcontour\",\"colorbar\":{\"outlinewidth\":0,\"ticks\":\"\"},\"colorscale\":[[0.0,\"#0d0887\"],[0.1111111111111111,\"#46039f\"],[0.2222222222222222,\"#7201a8\"],[0.3333333333333333,\"#9c179e\"],[0.4444444444444444,\"#bd3786\"],[0.5555555555555556,\"#d8576b\"],[0.6666666666666666,\"#ed7953\"],[0.7777777777777778,\"#fb9f3a\"],[0.8888888888888888,\"#fdca26\"],[1.0,\"#f0f921\"]]}],\"choropleth\":[{\"type\":\"choropleth\",\"colorbar\":{\"outlinewidth\":0,\"ticks\":\"\"}}],\"histogram2d\":[{\"type\":\"histogram2d\",\"colorbar\":{\"outlinewidth\":0,\"ticks\":\"\"},\"colorscale\":[[0.0,\"#0d0887\"],[0.1111111111111111,\"#46039f\"],[0.2222222222222222,\"#7201a8\"],[0.3333333333333333,\"#9c179e\"],[0.4444444444444444,\"#bd3786\"],[0.5555555555555556,\"#d8576b\"],[0.6666666666666666,\"#ed7953\"],[0.7777777777777778,\"#fb9f3a\"],[0.8888888888888888,\"#fdca26\"],[1.0,\"#f0f921\"]]}],\"heatmap\":[{\"type\":\"heatmap\",\"colorbar\":{\"outlinewidth\":0,\"ticks\":\"\"},\"colorscale\":[[0.0,\"#0d0887\"],[0.1111111111111111,\"#46039f\"],[0.2222222222222222,\"#7201a8\"],[0.3333333333333333,\"#9c179e\"],[0.4444444444444444,\"#bd3786\"],[0.5555555555555556,\"#d8576b\"],[0.6666666666666666,\"#ed7953\"],[0.7777777777777778,\"#fb9f3a\"],[0.8888888888888888,\"#fdca26\"],[1.0,\"#f0f921\"]]}],\"heatmapgl\":[{\"type\":\"heatmapgl\",\"colorbar\":{\"outlinewidth\":0,\"ticks\":\"\"},\"colorscale\":[[0.0,\"#0d0887\"],[0.1111111111111111,\"#46039f\"],[0.2222222222222222,\"#7201a8\"],[0.3333333333333333,\"#9c179e\"],[0.4444444444444444,\"#bd3786\"],[0.5555555555555556,\"#d8576b\"],[0.6666666666666666,\"#ed7953\"],[0.7777777777777778,\"#fb9f3a\"],[0.8888888888888888,\"#fdca26\"],[1.0,\"#f0f921\"]]}],\"contourcarpet\":[{\"type\":\"contourcarpet\",\"colorbar\":{\"outlinewidth\":0,\"ticks\":\"\"}}],\"contour\":[{\"type\":\"contour\",\"colorbar\":{\"outlinewidth\":0,\"ticks\":\"\"},\"colorscale\":[[0.0,\"#0d0887\"],[0.1111111111111111,\"#46039f\"],[0.2222222222222222,\"#7201a8\"],[0.3333333333333333,\"#9c179e\"],[0.4444444444444444,\"#bd3786\"],[0.5555555555555556,\"#d8576b\"],[0.6666666666666666,\"#ed7953\"],[0.7777777777777778,\"#fb9f3a\"],[0.8888888888888888,\"#fdca26\"],[1.0,\"#f0f921\"]]}],\"surface\":[{\"type\":\"surface\",\"colorbar\":{\"outlinewidth\":0,\"ticks\":\"\"},\"colorscale\":[[0.0,\"#0d0887\"],[0.1111111111111111,\"#46039f\"],[0.2222222222222222,\"#7201a8\"],[0.3333333333333333,\"#9c179e\"],[0.4444444444444444,\"#bd3786\"],[0.5555555555555556,\"#d8576b\"],[0.6666666666666666,\"#ed7953\"],[0.7777777777777778,\"#fb9f3a\"],[0.8888888888888888,\"#fdca26\"],[1.0,\"#f0f921\"]]}],\"mesh3d\":[{\"type\":\"mesh3d\",\"colorbar\":{\"outlinewidth\":0,\"ticks\":\"\"}}],\"scatter\":[{\"fillpattern\":{\"fillmode\":\"overlay\",\"size\":10,\"solidity\":0.2},\"type\":\"scatter\"}],\"parcoords\":[{\"type\":\"parcoords\",\"line\":{\"colorbar\":{\"outlinewidth\":0,\"ticks\":\"\"}}}],\"scatterpolargl\":[{\"type\":\"scatterpolargl\",\"marker\":{\"colorbar\":{\"outlinewidth\":0,\"ticks\":\"\"}}}],\"bar\":[{\"error_x\":{\"color\":\"#2a3f5f\"},\"error_y\":{\"color\":\"#2a3f5f\"},\"marker\":{\"line\":{\"color\":\"#E5ECF6\",\"width\":0.5},\"pattern\":{\"fillmode\":\"overlay\",\"size\":10,\"solidity\":0.2}},\"type\":\"bar\"}],\"scattergeo\":[{\"type\":\"scattergeo\",\"marker\":{\"colorbar\":{\"outlinewidth\":0,\"ticks\":\"\"}}}],\"scatterpolar\":[{\"type\":\"scatterpolar\",\"marker\":{\"colorbar\":{\"outlinewidth\":0,\"ticks\":\"\"}}}],\"histogram\":[{\"marker\":{\"pattern\":{\"fillmode\":\"overlay\",\"size\":10,\"solidity\":0.2}},\"type\":\"histogram\"}],\"scattergl\":[{\"type\":\"scattergl\",\"marker\":{\"colorbar\":{\"outlinewidth\":0,\"ticks\":\"\"}}}],\"scatter3d\":[{\"type\":\"scatter3d\",\"line\":{\"colorbar\":{\"outlinewidth\":0,\"ticks\":\"\"}},\"marker\":{\"colorbar\":{\"outlinewidth\":0,\"ticks\":\"\"}}}],\"scattermapbox\":[{\"type\":\"scattermapbox\",\"marker\":{\"colorbar\":{\"outlinewidth\":0,\"ticks\":\"\"}}}],\"scatterternary\":[{\"type\":\"scatterternary\",\"marker\":{\"colorbar\":{\"outlinewidth\":0,\"ticks\":\"\"}}}],\"scattercarpet\":[{\"type\":\"scattercarpet\",\"marker\":{\"colorbar\":{\"outlinewidth\":0,\"ticks\":\"\"}}}],\"carpet\":[{\"aaxis\":{\"endlinecolor\":\"#2a3f5f\",\"gridcolor\":\"white\",\"linecolor\":\"white\",\"minorgridcolor\":\"white\",\"startlinecolor\":\"#2a3f5f\"},\"baxis\":{\"endlinecolor\":\"#2a3f5f\",\"gridcolor\":\"white\",\"linecolor\":\"white\",\"minorgridcolor\":\"white\",\"startlinecolor\":\"#2a3f5f\"},\"type\":\"carpet\"}],\"table\":[{\"cells\":{\"fill\":{\"color\":\"#EBF0F8\"},\"line\":{\"color\":\"white\"}},\"header\":{\"fill\":{\"color\":\"#C8D4E3\"},\"line\":{\"color\":\"white\"}},\"type\":\"table\"}],\"barpolar\":[{\"marker\":{\"line\":{\"color\":\"#E5ECF6\",\"width\":0.5},\"pattern\":{\"fillmode\":\"overlay\",\"size\":10,\"solidity\":0.2}},\"type\":\"barpolar\"}],\"pie\":[{\"automargin\":true,\"type\":\"pie\"}]},\"layout\":{\"autotypenumbers\":\"strict\",\"colorway\":[\"#636efa\",\"#EF553B\",\"#00cc96\",\"#ab63fa\",\"#FFA15A\",\"#19d3f3\",\"#FF6692\",\"#B6E880\",\"#FF97FF\",\"#FECB52\"],\"font\":{\"color\":\"#2a3f5f\"},\"hovermode\":\"closest\",\"hoverlabel\":{\"align\":\"left\"},\"paper_bgcolor\":\"white\",\"plot_bgcolor\":\"#E5ECF6\",\"polar\":{\"bgcolor\":\"#E5ECF6\",\"angularaxis\":{\"gridcolor\":\"white\",\"linecolor\":\"white\",\"ticks\":\"\"},\"radialaxis\":{\"gridcolor\":\"white\",\"linecolor\":\"white\",\"ticks\":\"\"}},\"ternary\":{\"bgcolor\":\"#E5ECF6\",\"aaxis\":{\"gridcolor\":\"white\",\"linecolor\":\"white\",\"ticks\":\"\"},\"baxis\":{\"gridcolor\":\"white\",\"linecolor\":\"white\",\"ticks\":\"\"},\"caxis\":{\"gridcolor\":\"white\",\"linecolor\":\"white\",\"ticks\":\"\"}},\"coloraxis\":{\"colorbar\":{\"outlinewidth\":0,\"ticks\":\"\"}},\"colorscale\":{\"sequential\":[[0.0,\"#0d0887\"],[0.1111111111111111,\"#46039f\"],[0.2222222222222222,\"#7201a8\"],[0.3333333333333333,\"#9c179e\"],[0.4444444444444444,\"#bd3786\"],[0.5555555555555556,\"#d8576b\"],[0.6666666666666666,\"#ed7953\"],[0.7777777777777778,\"#fb9f3a\"],[0.8888888888888888,\"#fdca26\"],[1.0,\"#f0f921\"]],\"sequentialminus\":[[0.0,\"#0d0887\"],[0.1111111111111111,\"#46039f\"],[0.2222222222222222,\"#7201a8\"],[0.3333333333333333,\"#9c179e\"],[0.4444444444444444,\"#bd3786\"],[0.5555555555555556,\"#d8576b\"],[0.6666666666666666,\"#ed7953\"],[0.7777777777777778,\"#fb9f3a\"],[0.8888888888888888,\"#fdca26\"],[1.0,\"#f0f921\"]],\"diverging\":[[0,\"#8e0152\"],[0.1,\"#c51b7d\"],[0.2,\"#de77ae\"],[0.3,\"#f1b6da\"],[0.4,\"#fde0ef\"],[0.5,\"#f7f7f7\"],[0.6,\"#e6f5d0\"],[0.7,\"#b8e186\"],[0.8,\"#7fbc41\"],[0.9,\"#4d9221\"],[1,\"#276419\"]]},\"xaxis\":{\"gridcolor\":\"white\",\"linecolor\":\"white\",\"ticks\":\"\",\"title\":{\"standoff\":15},\"zerolinecolor\":\"white\",\"automargin\":true,\"zerolinewidth\":2},\"yaxis\":{\"gridcolor\":\"white\",\"linecolor\":\"white\",\"ticks\":\"\",\"title\":{\"standoff\":15},\"zerolinecolor\":\"white\",\"automargin\":true,\"zerolinewidth\":2},\"scene\":{\"xaxis\":{\"backgroundcolor\":\"#E5ECF6\",\"gridcolor\":\"white\",\"linecolor\":\"white\",\"showbackground\":true,\"ticks\":\"\",\"zerolinecolor\":\"white\",\"gridwidth\":2},\"yaxis\":{\"backgroundcolor\":\"#E5ECF6\",\"gridcolor\":\"white\",\"linecolor\":\"white\",\"showbackground\":true,\"ticks\":\"\",\"zerolinecolor\":\"white\",\"gridwidth\":2},\"zaxis\":{\"backgroundcolor\":\"#E5ECF6\",\"gridcolor\":\"white\",\"linecolor\":\"white\",\"showbackground\":true,\"ticks\":\"\",\"zerolinecolor\":\"white\",\"gridwidth\":2}},\"shapedefaults\":{\"line\":{\"color\":\"#2a3f5f\"}},\"annotationdefaults\":{\"arrowcolor\":\"#2a3f5f\",\"arrowhead\":0,\"arrowwidth\":1},\"geo\":{\"bgcolor\":\"white\",\"landcolor\":\"#E5ECF6\",\"subunitcolor\":\"white\",\"showland\":true,\"showlakes\":true,\"lakecolor\":\"white\"},\"title\":{\"x\":0.05},\"mapbox\":{\"style\":\"light\"}}},\"xaxis\":{\"anchor\":\"y\",\"domain\":[0.0,1.0],\"title\":{\"text\":\"Total Passing Yards\"}},\"yaxis\":{\"anchor\":\"x\",\"domain\":[0.0,1.0],\"title\":{\"text\":\"Total Wins\"}},\"legend\":{\"tracegroupgap\":0},\"title\":{\"text\":\"Team Analysis: Passing Yards vs Wins for QBs\"}},                        {\"responsive\": true}                    ).then(function(){\n",
       "                            \n",
       "var gd = document.getElementById('10142293-aeb3-4204-b9a4-2a592417bb2e');\n",
       "var x = new MutationObserver(function (mutations, observer) {{\n",
       "        var display = window.getComputedStyle(gd).display;\n",
       "        if (!display || display === 'none') {{\n",
       "            console.log([gd, 'removed!']);\n",
       "            Plotly.purge(gd);\n",
       "            observer.disconnect();\n",
       "        }}\n",
       "}});\n",
       "\n",
       "// Listen for the removal of the full notebook cells\n",
       "var notebookContainer = gd.closest('#notebook-container');\n",
       "if (notebookContainer) {{\n",
       "    x.observe(notebookContainer, {childList: true});\n",
       "}}\n",
       "\n",
       "// Listen for the clearing of the current output cell\n",
       "var outputEl = gd.closest('.output');\n",
       "if (outputEl) {{\n",
       "    x.observe(outputEl, {childList: true});\n",
       "}}\n",
       "\n",
       "                        })                };                });            </script>        </div>"
      ]
     },
     "metadata": {},
     "output_type": "display_data"
    }
   ],
   "source": [
    "\n",
    "import plotly.express as px\n",
    "\n",
    "# Assuming 'Tm' is the column representing the NFL teams\n",
    "# and 'QBrec' is the column representing the QB record as a string, e.g., '12-1-1'\n",
    "# 'Pos' is the column representing player positions\n",
    "# Filter the DataFrame to include only relevant columns and position 'QB'\n",
    "team_df = df_copy[(df_copy['Pos'] == 'QB') & (df_copy['QBrec'].notna())][['Tm', 'Yds', 'QBrec']]\n",
    "\n",
    "# Extract the number of wins from the QB record string and convert to numeric\n",
    "team_df['Wins'] = team_df['QBrec'].str.split('-').str[0].astype(float)\n",
    "\n",
    "# Group by team and sum the passing yards and wins for each team\n",
    "team_passing_yards = team_df.groupby('Tm')['Yds'].sum().reset_index()\n",
    "team_wins = team_df.groupby('Tm')['Wins'].sum().reset_index()\n",
    "\n",
    "# Merge the two dataframes on the 'Tm' column\n",
    "team_analysis_df = pd.merge(team_passing_yards, team_wins, on='Tm')\n",
    "\n",
    "# Sort the DataFrame based on total passing yards\n",
    "team_analysis_df = team_analysis_df.sort_values(by='Yds', ascending=False)\n",
    "\n",
    "# Create a scatter plot to visualize the correlation between passing yards and wins\n",
    "fig = px.scatter(team_analysis_df, x='Yds', y='Wins', text='Tm', title='Team Analysis: Passing Yards vs Wins for QBs',\n",
    "                 labels={'Yds': 'Total Passing Yards', 'Wins': 'Total Wins'},\n",
    "                 trendline='ols')  # Adding a trendline directly here\n",
    "\n",
    "# Show the plot\n",
    "fig.show()\n"
   ]
  },
  {
   "cell_type": "code",
   "execution_count": 40,
   "id": "ea6ae7ce",
   "metadata": {},
   "outputs": [
    {
     "name": "stdout",
     "output_type": "stream",
     "text": [
      "             Player  Age Team  Total Passing Yards  Total Touchdowns  \\\n",
      "0   Deshaun Watson*   25  HOU                 4823                33   \n",
      "1  Patrick Mahomes*   25  KAN                 4740                38   \n",
      "2         Tom Brady   43  TAM                 4633                40   \n",
      "3         Matt Ryan   35  ATL                 4581                26   \n",
      "4       Josh Allen*   24  BUF                 4544                37   \n",
      "5    Justin Herbert   22  LAC                 4336                31   \n",
      "6   Aaron Rodgers*+   37  GNB                 4299                48   \n",
      "7      Kirk Cousins   32  MIN                 4265                35   \n",
      "8   Russell Wilson*   32  SEA                 4212                40   \n",
      "9     Philip Rivers   39  IND                 4169                24   \n",
      "\n",
      "   Attempts  Games Played  Completions  Completion Percentage  \\\n",
      "0       544            16          382                   70.2   \n",
      "1       588            15          390                   66.3   \n",
      "2       610            16          401                   65.7   \n",
      "3       626            16          407                   65.0   \n",
      "4       572            16          396                   69.2   \n",
      "5       595            15          396                   66.6   \n",
      "6       526            16          372                   70.7   \n",
      "7       516            16          349                   67.6   \n",
      "8       558            16          384                   68.8   \n",
      "9       543            16          369                   68.0   \n",
      "\n",
      "   Touchdown Percentage   QBR  Total Interceptions  Total Sacks   QBrec  \\\n",
      "0                   6.1  63.7                    7           49  4-12-0   \n",
      "1                   6.5  78.1                    6           22  14-1-0   \n",
      "2                   6.6  66.0                   12           21  11-5-0   \n",
      "3                   4.2  59.8                   11           41  4-12-0   \n",
      "4                   6.5  76.6                   10           26  13-3-0   \n",
      "5                   5.2  62.6                   10           32   6-9-0   \n",
      "6                   9.1  79.8                    5           20  13-3-0   \n",
      "7                   6.8  55.8                   13           39   7-9-0   \n",
      "8                   7.2  67.1                   13           47  12-4-0   \n",
      "9                   4.4  55.0                   11           19  11-5-0   \n",
      "\n",
      "   Total Wins  \n",
      "0           4  \n",
      "1          14  \n",
      "2          11  \n",
      "3           4  \n",
      "4          13  \n",
      "5           6  \n",
      "6          13  \n",
      "7           7  \n",
      "8          12  \n",
      "9          11  \n"
     ]
    }
   ],
   "source": [
    "\n",
    "# Assuming 'Tm' is the column representing the NFL teams\n",
    "# and 'QBrec' is the column representing the QB record as a string, e.g., '12-1-1'\n",
    "# 'Pos' is the column representing player positions\n",
    "# Filter the DataFrame to include only relevant columns and position 'QB'\n",
    "team_df = df[(df['Pos'] == 'QB') & (df['QBrec'].notna())][['Player','Age','Tm', 'Yds', 'TD', 'Att', 'G', 'Cmp', 'Cmp%', 'TD%', 'QBR', 'Int', 'Sk', 'QBrec']]\n",
    "\n",
    "# Extract the number of wins from the QB record string and convert to numeric\n",
    "team_df['Total Wins'] = team_df['QBrec'].str.split('-').str[0].astype(int)\n",
    "\n",
    "# Rename the selected columns\n",
    "team_df = team_df.rename(columns={\n",
    "    'Tm': 'Team',\n",
    "    'Yds': 'Total Passing Yards',\n",
    "    'TD': 'Total Touchdowns',\n",
    "    'Att': 'Attempts',\n",
    "    'G': 'Games Played',\n",
    "    'Cmp': 'Completions',\n",
    "    'Cmp%': 'Completion Percentage',\n",
    "    'TD%': 'Touchdown Percentage',\n",
    "    'QBR': 'QBR',\n",
    "    'Int': 'Total Interceptions',\n",
    "    'Sk': 'Total Sacks'\n",
    "})\n",
    "\n",
    "# Display the resulting DataFrame\n",
    "print(team_df.head(10))\n"
   ]
  },
  {
   "cell_type": "code",
   "execution_count": 42,
   "id": "c89f5a48",
   "metadata": {},
   "outputs": [],
   "source": [
    "# Export the DataFrame to an Excel file\n",
    "team_df.to_excel('nfl_passing_data_modified.xlsx', index=False)\n"
   ]
  },
  {
   "cell_type": "code",
   "execution_count": null,
   "id": "d470bb78",
   "metadata": {},
   "outputs": [],
   "source": []
  }
 ],
 "metadata": {
  "kernelspec": {
   "display_name": "Python 3 (ipykernel)",
   "language": "python",
   "name": "python3"
  },
  "language_info": {
   "codemirror_mode": {
    "name": "ipython",
    "version": 3
   },
   "file_extension": ".py",
   "mimetype": "text/x-python",
   "name": "python",
   "nbconvert_exporter": "python",
   "pygments_lexer": "ipython3",
   "version": "3.11.3"
  }
 },
 "nbformat": 4,
 "nbformat_minor": 5
}
